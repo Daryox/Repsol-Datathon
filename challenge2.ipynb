{
 "cells": [
  {
   "cell_type": "code",
   "execution_count": 259,
   "metadata": {},
   "outputs": [],
   "source": [
    "import pandas as pd\n",
    "import numpy as np"
   ]
  },
  {
   "cell_type": "code",
   "execution_count": 260,
   "metadata": {},
   "outputs": [
    {
     "data": {
      "text/html": [
       "<div>\n",
       "<style scoped>\n",
       "    .dataframe tbody tr th:only-of-type {\n",
       "        vertical-align: middle;\n",
       "    }\n",
       "\n",
       "    .dataframe tbody tr th {\n",
       "        vertical-align: top;\n",
       "    }\n",
       "\n",
       "    .dataframe thead th {\n",
       "        text-align: right;\n",
       "    }\n",
       "</style>\n",
       "<table border=\"1\" class=\"dataframe\">\n",
       "  <thead>\n",
       "    <tr style=\"text-align: right;\">\n",
       "      <th></th>\n",
       "      <th>ds</th>\n",
       "      <th>Production</th>\n",
       "    </tr>\n",
       "  </thead>\n",
       "  <tbody>\n",
       "    <tr>\n",
       "      <th>0</th>\n",
       "      <td>2024-09-01 00:00:00</td>\n",
       "      <td>0.0</td>\n",
       "    </tr>\n",
       "    <tr>\n",
       "      <th>1</th>\n",
       "      <td>2024-09-01 01:00:00</td>\n",
       "      <td>0.0</td>\n",
       "    </tr>\n",
       "    <tr>\n",
       "      <th>2</th>\n",
       "      <td>2024-09-01 02:00:00</td>\n",
       "      <td>0.0</td>\n",
       "    </tr>\n",
       "    <tr>\n",
       "      <th>3</th>\n",
       "      <td>2024-09-01 03:00:00</td>\n",
       "      <td>0.0</td>\n",
       "    </tr>\n",
       "    <tr>\n",
       "      <th>4</th>\n",
       "      <td>2024-09-01 04:00:00</td>\n",
       "      <td>0.0</td>\n",
       "    </tr>\n",
       "  </tbody>\n",
       "</table>\n",
       "</div>"
      ],
      "text/plain": [
       "                   ds  Production\n",
       "0 2024-09-01 00:00:00         0.0\n",
       "1 2024-09-01 01:00:00         0.0\n",
       "2 2024-09-01 02:00:00         0.0\n",
       "3 2024-09-01 03:00:00         0.0\n",
       "4 2024-09-01 04:00:00         0.0"
      ]
     },
     "execution_count": 260,
     "metadata": {},
     "output_type": "execute_result"
    }
   ],
   "source": [
    "gen = pd.read_csv('Challenge1_GroupX_best.csv', sep=\";\", decimal=\",\") #Change sep at will\n",
    "gen[\"ds\"] = pd.to_datetime(gen[\"ds\"])\n",
    "gen.rename(columns={\"Energia\": \"Production\"}, inplace=True)\n",
    "gen.head()"
   ]
  },
  {
   "cell_type": "code",
   "execution_count": 261,
   "metadata": {},
   "outputs": [
    {
     "data": {
      "text/html": [
       "<div>\n",
       "<style scoped>\n",
       "    .dataframe tbody tr th:only-of-type {\n",
       "        vertical-align: middle;\n",
       "    }\n",
       "\n",
       "    .dataframe tbody tr th {\n",
       "        vertical-align: top;\n",
       "    }\n",
       "\n",
       "    .dataframe thead th {\n",
       "        text-align: right;\n",
       "    }\n",
       "</style>\n",
       "<table border=\"1\" class=\"dataframe\">\n",
       "  <thead>\n",
       "    <tr style=\"text-align: right;\">\n",
       "      <th></th>\n",
       "      <th>FECHA</th>\n",
       "      <th>Solar Consumption</th>\n",
       "    </tr>\n",
       "  </thead>\n",
       "  <tbody>\n",
       "    <tr>\n",
       "      <th>0</th>\n",
       "      <td>2024-09-01 00:00:00+02:00</td>\n",
       "      <td>0.0</td>\n",
       "    </tr>\n",
       "    <tr>\n",
       "      <th>1</th>\n",
       "      <td>2024-09-01 01:00:00+02:00</td>\n",
       "      <td>0.0</td>\n",
       "    </tr>\n",
       "    <tr>\n",
       "      <th>2</th>\n",
       "      <td>2024-09-01 02:00:00+02:00</td>\n",
       "      <td>0.0</td>\n",
       "    </tr>\n",
       "    <tr>\n",
       "      <th>3</th>\n",
       "      <td>2024-09-01 03:00:00+02:00</td>\n",
       "      <td>0.0</td>\n",
       "    </tr>\n",
       "    <tr>\n",
       "      <th>4</th>\n",
       "      <td>2024-09-01 04:00:00+02:00</td>\n",
       "      <td>0.0</td>\n",
       "    </tr>\n",
       "  </tbody>\n",
       "</table>\n",
       "</div>"
      ],
      "text/plain": [
       "                      FECHA  Solar Consumption\n",
       "0 2024-09-01 00:00:00+02:00                0.0\n",
       "1 2024-09-01 01:00:00+02:00                0.0\n",
       "2 2024-09-01 02:00:00+02:00                0.0\n",
       "3 2024-09-01 03:00:00+02:00                0.0\n",
       "4 2024-09-01 04:00:00+02:00                0.0"
      ]
     },
     "execution_count": 261,
     "metadata": {},
     "output_type": "execute_result"
    }
   ],
   "source": [
    "conS = pd.read_csv('datasets/Consumo_fotovoltaica.csv')\n",
    "conS[\"FECHA\"] = pd.to_datetime(conS[\"FECHA\"])\n",
    "conS.rename(columns={\"TOTAL_KWH_ENERGIA\": \"Solar Consumption\"}, inplace=True)\n",
    "conS.head()"
   ]
  },
  {
   "cell_type": "code",
   "execution_count": 262,
   "metadata": {},
   "outputs": [],
   "source": [
    "from sklearn.impute import SimpleImputer\n",
    "imputer = SimpleImputer(strategy='mean')\n",
    "\n",
    "conT = pd.read_csv('datasets/Consumo_sept.csv')\n",
    "conT[\"FECHA\"] = pd.to_datetime(conT[\"FECHA\"])\n",
    "conT.rename(columns={\"FECHA\": \"ds\", \"TOTAL_KWH_ENERGIA\" : \"Total Consumption\"}, inplace=True)\n",
    "conT[\"Total Consumption\"] = imputer.fit_transform(conT[[\"Total Consumption\"]])"
   ]
  },
  {
   "cell_type": "code",
   "execution_count": 263,
   "metadata": {},
   "outputs": [
    {
     "data": {
      "text/html": [
       "<div>\n",
       "<style scoped>\n",
       "    .dataframe tbody tr th:only-of-type {\n",
       "        vertical-align: middle;\n",
       "    }\n",
       "\n",
       "    .dataframe tbody tr th {\n",
       "        vertical-align: top;\n",
       "    }\n",
       "\n",
       "    .dataframe thead th {\n",
       "        text-align: right;\n",
       "    }\n",
       "</style>\n",
       "<table border=\"1\" class=\"dataframe\">\n",
       "  <thead>\n",
       "    <tr style=\"text-align: right;\">\n",
       "      <th></th>\n",
       "      <th>ds</th>\n",
       "      <th>Carbon Intensity</th>\n",
       "    </tr>\n",
       "  </thead>\n",
       "  <tbody>\n",
       "    <tr>\n",
       "      <th>0</th>\n",
       "      <td>2024-01-01 00:00:00</td>\n",
       "      <td>93.63</td>\n",
       "    </tr>\n",
       "    <tr>\n",
       "      <th>1</th>\n",
       "      <td>2024-01-01 01:00:00</td>\n",
       "      <td>93.64</td>\n",
       "    </tr>\n",
       "    <tr>\n",
       "      <th>2</th>\n",
       "      <td>2024-01-01 02:00:00</td>\n",
       "      <td>98.90</td>\n",
       "    </tr>\n",
       "    <tr>\n",
       "      <th>3</th>\n",
       "      <td>2024-01-01 03:00:00</td>\n",
       "      <td>99.33</td>\n",
       "    </tr>\n",
       "    <tr>\n",
       "      <th>4</th>\n",
       "      <td>2024-01-01 04:00:00</td>\n",
       "      <td>102.59</td>\n",
       "    </tr>\n",
       "  </tbody>\n",
       "</table>\n",
       "</div>"
      ],
      "text/plain": [
       "                   ds  Carbon Intensity\n",
       "0 2024-01-01 00:00:00             93.63\n",
       "1 2024-01-01 01:00:00             93.64\n",
       "2 2024-01-01 02:00:00             98.90\n",
       "3 2024-01-01 03:00:00             99.33\n",
       "4 2024-01-01 04:00:00            102.59"
      ]
     },
     "execution_count": 263,
     "metadata": {},
     "output_type": "execute_result"
    }
   ],
   "source": [
    "carb = pd.read_csv('datasets/ES_2024_hourly.csv')\n",
    "carb = carb[[\"Datetime (UTC)\", \"Carbon Intensity gCO₂eq/kWh (direct)\"]]\n",
    "carb[\"Datetime (UTC)\"] = pd.to_datetime(carb[\"Datetime (UTC)\"])\n",
    "carb.rename(columns={\"Datetime (UTC)\": \"ds\", \"Carbon Intensity gCO₂eq/kWh (direct)\": \"Carbon Intensity\"}, inplace=True)\n",
    "carb.head()"
   ]
  },
  {
   "cell_type": "code",
   "execution_count": 264,
   "metadata": {},
   "outputs": [],
   "source": [
    "conS['FECHA'] = conS['FECHA'].dt.tz_localize(None)  # Remove timezone\n",
    "gen['ds'] = gen['ds'].dt.tz_localize(None)  # Remove timezone from 'ds' if any"
   ]
  },
  {
   "cell_type": "code",
   "execution_count": 265,
   "metadata": {},
   "outputs": [
    {
     "data": {
      "text/html": [
       "<div>\n",
       "<style scoped>\n",
       "    .dataframe tbody tr th:only-of-type {\n",
       "        vertical-align: middle;\n",
       "    }\n",
       "\n",
       "    .dataframe tbody tr th {\n",
       "        vertical-align: top;\n",
       "    }\n",
       "\n",
       "    .dataframe thead th {\n",
       "        text-align: right;\n",
       "    }\n",
       "</style>\n",
       "<table border=\"1\" class=\"dataframe\">\n",
       "  <thead>\n",
       "    <tr style=\"text-align: right;\">\n",
       "      <th></th>\n",
       "      <th>ds</th>\n",
       "      <th>Production</th>\n",
       "      <th>Solar Consumption</th>\n",
       "      <th>Solar Diff</th>\n",
       "      <th>Total Consumption</th>\n",
       "      <th>Carbon Intensity</th>\n",
       "      <th>CO2 Emmitted</th>\n",
       "    </tr>\n",
       "  </thead>\n",
       "  <tbody>\n",
       "    <tr>\n",
       "      <th>0</th>\n",
       "      <td>2024-09-01 00:00:00</td>\n",
       "      <td>0.0</td>\n",
       "      <td>0.0</td>\n",
       "      <td>0.0</td>\n",
       "      <td>110.855888</td>\n",
       "      <td>170.04</td>\n",
       "      <td>18849.935258</td>\n",
       "    </tr>\n",
       "    <tr>\n",
       "      <th>1</th>\n",
       "      <td>2024-09-01 01:00:00</td>\n",
       "      <td>0.0</td>\n",
       "      <td>0.0</td>\n",
       "      <td>0.0</td>\n",
       "      <td>107.341202</td>\n",
       "      <td>175.13</td>\n",
       "      <td>18798.664668</td>\n",
       "    </tr>\n",
       "    <tr>\n",
       "      <th>2</th>\n",
       "      <td>2024-09-01 02:00:00</td>\n",
       "      <td>0.0</td>\n",
       "      <td>0.0</td>\n",
       "      <td>0.0</td>\n",
       "      <td>105.550308</td>\n",
       "      <td>175.53</td>\n",
       "      <td>18527.245603</td>\n",
       "    </tr>\n",
       "    <tr>\n",
       "      <th>3</th>\n",
       "      <td>2024-09-01 03:00:00</td>\n",
       "      <td>0.0</td>\n",
       "      <td>0.0</td>\n",
       "      <td>0.0</td>\n",
       "      <td>106.840103</td>\n",
       "      <td>174.22</td>\n",
       "      <td>18613.682771</td>\n",
       "    </tr>\n",
       "    <tr>\n",
       "      <th>4</th>\n",
       "      <td>2024-09-01 04:00:00</td>\n",
       "      <td>0.0</td>\n",
       "      <td>0.0</td>\n",
       "      <td>0.0</td>\n",
       "      <td>105.879791</td>\n",
       "      <td>175.05</td>\n",
       "      <td>18534.257460</td>\n",
       "    </tr>\n",
       "  </tbody>\n",
       "</table>\n",
       "</div>"
      ],
      "text/plain": [
       "                   ds  Production  Solar Consumption  Solar Diff  \\\n",
       "0 2024-09-01 00:00:00         0.0                0.0         0.0   \n",
       "1 2024-09-01 01:00:00         0.0                0.0         0.0   \n",
       "2 2024-09-01 02:00:00         0.0                0.0         0.0   \n",
       "3 2024-09-01 03:00:00         0.0                0.0         0.0   \n",
       "4 2024-09-01 04:00:00         0.0                0.0         0.0   \n",
       "\n",
       "   Total Consumption  Carbon Intensity  CO2 Emmitted  \n",
       "0         110.855888            170.04  18849.935258  \n",
       "1         107.341202            175.13  18798.664668  \n",
       "2         105.550308            175.53  18527.245603  \n",
       "3         106.840103            174.22  18613.682771  \n",
       "4         105.879791            175.05  18534.257460  "
      ]
     },
     "execution_count": 265,
     "metadata": {},
     "output_type": "execute_result"
    }
   ],
   "source": [
    "gen = gen.merge(conS, left_on='ds', right_on='FECHA', how='left')\n",
    "gen[\"Solar Diff\"] = gen[\"Production\"] - gen[\"Solar Consumption\"]\n",
    "gen = gen.merge(conT, on='ds', how='left')\n",
    "gen = gen.merge(carb, on='ds', how='left')\n",
    "gen[\"CO2 Emmitted\"] = gen[\"Carbon Intensity\"] * gen[\"Total Consumption\"]\n",
    "gen.drop('FECHA', axis=1, inplace=True)\n",
    "gen.head()"
   ]
  },
  {
   "cell_type": "code",
   "execution_count": 266,
   "metadata": {},
   "outputs": [
    {
     "data": {
      "text/plain": [
       "(720, 7)"
      ]
     },
     "execution_count": 266,
     "metadata": {},
     "output_type": "execute_result"
    }
   ],
   "source": [
    "gen.shape"
   ]
  },
  {
   "cell_type": "code",
   "execution_count": 267,
   "metadata": {},
   "outputs": [
    {
     "name": "stdout",
     "output_type": "stream",
     "text": [
      "32.77\n",
      "183.41\n",
      "150.64\n"
     ]
    }
   ],
   "source": [
    "print(min(gen[\"Carbon Intensity\"]))\n",
    "print(max(gen[\"Carbon Intensity\"]))\n",
    "print(max(gen[\"Carbon Intensity\"]-min(gen[\"Carbon Intensity\"])))"
   ]
  },
  {
   "cell_type": "code",
   "execution_count": 268,
   "metadata": {
    "vscode": {
     "languageId": "ruby"
    }
   },
   "outputs": [
    {
     "name": "stdout",
     "output_type": "stream",
     "text": [
      "    Hour  Average Carbon Intensity\n",
      "19    19                131.106667\n",
      "18    18                127.927000\n",
      "20    20                125.151333\n",
      "6      6                122.005333\n",
      "5      5                119.962000\n",
      "21    21                116.302000\n",
      "4      4                114.549000\n",
      "3      3                109.836667\n",
      "2      2                106.495333\n",
      "22    22                106.356333\n",
      "1      1                105.423667\n",
      "0      0                104.519667\n",
      "23    23                102.135000\n",
      "17    17                101.876333\n",
      "7      7                 98.531333\n",
      "8      8                 70.118333\n",
      "16    16                 69.581667\n",
      "9      9                 56.952333\n",
      "15    15                 55.761667\n",
      "10    10                 52.597333\n",
      "14    14                 51.729667\n",
      "11    11                 51.269667\n",
      "13    13                 50.418333\n",
      "12    12                 50.035333\n"
     ]
    }
   ],
   "source": [
    "gen['Hour'] = gen['ds'].dt.hour  # Extract the hour from the datetime column\n",
    "average_carbon_per_hour = gen.groupby('Hour')['Carbon Intensity'].mean().reset_index()\n",
    "average_carbon_per_hour.rename(columns={'Carbon Intensity': 'Average Carbon Intensity'}, inplace=True)\n",
    "average_carbon_per_hour.sort_values('Average Carbon Intensity', ascending=False, inplace=True)\n",
    "print(average_carbon_per_hour)"
   ]
  },
  {
   "cell_type": "code",
   "execution_count": 269,
   "metadata": {
    "vscode": {
     "languageId": "ruby"
    }
   },
   "outputs": [
    {
     "name": "stdout",
     "output_type": "stream",
     "text": [
      "    Hour  Avg Production\n",
      "14    14       89.855575\n",
      "13    13       89.829537\n",
      "15    15       88.730320\n",
      "16    16       84.918525\n",
      "12    12       79.961103\n",
      "17    17       75.636464\n",
      "18    18       60.495948\n",
      "11    11       58.633596\n",
      "19    19       42.121317\n",
      "10    10       30.023625\n",
      "20    20       16.688621\n",
      "9      9        9.789461\n",
      "21    21        5.535858\n",
      "8      8        1.394146\n",
      "1      1        0.000000\n",
      "0      0        0.000000\n",
      "7      7        0.000000\n",
      "6      6        0.000000\n",
      "5      5        0.000000\n",
      "4      4        0.000000\n",
      "3      3        0.000000\n",
      "2      2        0.000000\n",
      "22    22        0.000000\n",
      "23    23        0.000000\n"
     ]
    }
   ],
   "source": [
    "average_solar_per_hour = gen.groupby('Hour')['Production'].mean().reset_index()\n",
    "average_solar_per_hour.rename(columns={'Production': 'Avg Production'}, inplace=True)\n",
    "average_solar_per_hour.sort_values('Avg Production', ascending=False, inplace=True)\n",
    "print(average_solar_per_hour)"
   ]
  },
  {
   "cell_type": "code",
   "execution_count": 270,
   "metadata": {
    "vscode": {
     "languageId": "ruby"
    }
   },
   "outputs": [
    {
     "data": {
      "text/html": [
       "<div>\n",
       "<style scoped>\n",
       "    .dataframe tbody tr th:only-of-type {\n",
       "        vertical-align: middle;\n",
       "    }\n",
       "\n",
       "    .dataframe tbody tr th {\n",
       "        vertical-align: top;\n",
       "    }\n",
       "\n",
       "    .dataframe thead th {\n",
       "        text-align: right;\n",
       "    }\n",
       "</style>\n",
       "<table border=\"1\" class=\"dataframe\">\n",
       "  <thead>\n",
       "    <tr style=\"text-align: right;\">\n",
       "      <th></th>\n",
       "      <th>ds</th>\n",
       "      <th>Production</th>\n",
       "      <th>Solar Consumption</th>\n",
       "      <th>Solar Diff</th>\n",
       "      <th>Total Consumption</th>\n",
       "      <th>Carbon Intensity</th>\n",
       "      <th>CO2 Emmitted</th>\n",
       "    </tr>\n",
       "  </thead>\n",
       "  <tbody>\n",
       "    <tr>\n",
       "      <th>0</th>\n",
       "      <td>2024-09-01 00:00:00</td>\n",
       "      <td>0.0</td>\n",
       "      <td>0.0</td>\n",
       "      <td>0.0</td>\n",
       "      <td>110.855888</td>\n",
       "      <td>170.04</td>\n",
       "      <td>18849.935258</td>\n",
       "    </tr>\n",
       "    <tr>\n",
       "      <th>1</th>\n",
       "      <td>2024-09-01 01:00:00</td>\n",
       "      <td>0.0</td>\n",
       "      <td>0.0</td>\n",
       "      <td>0.0</td>\n",
       "      <td>107.341202</td>\n",
       "      <td>175.13</td>\n",
       "      <td>18798.664668</td>\n",
       "    </tr>\n",
       "    <tr>\n",
       "      <th>2</th>\n",
       "      <td>2024-09-01 02:00:00</td>\n",
       "      <td>0.0</td>\n",
       "      <td>0.0</td>\n",
       "      <td>0.0</td>\n",
       "      <td>105.550308</td>\n",
       "      <td>175.53</td>\n",
       "      <td>18527.245603</td>\n",
       "    </tr>\n",
       "    <tr>\n",
       "      <th>3</th>\n",
       "      <td>2024-09-01 03:00:00</td>\n",
       "      <td>0.0</td>\n",
       "      <td>0.0</td>\n",
       "      <td>0.0</td>\n",
       "      <td>106.840103</td>\n",
       "      <td>174.22</td>\n",
       "      <td>18613.682771</td>\n",
       "    </tr>\n",
       "    <tr>\n",
       "      <th>4</th>\n",
       "      <td>2024-09-01 04:00:00</td>\n",
       "      <td>0.0</td>\n",
       "      <td>0.0</td>\n",
       "      <td>0.0</td>\n",
       "      <td>105.879791</td>\n",
       "      <td>175.05</td>\n",
       "      <td>18534.257460</td>\n",
       "    </tr>\n",
       "  </tbody>\n",
       "</table>\n",
       "</div>"
      ],
      "text/plain": [
       "                   ds  Production  Solar Consumption  Solar Diff  \\\n",
       "0 2024-09-01 00:00:00         0.0                0.0         0.0   \n",
       "1 2024-09-01 01:00:00         0.0                0.0         0.0   \n",
       "2 2024-09-01 02:00:00         0.0                0.0         0.0   \n",
       "3 2024-09-01 03:00:00         0.0                0.0         0.0   \n",
       "4 2024-09-01 04:00:00         0.0                0.0         0.0   \n",
       "\n",
       "   Total Consumption  Carbon Intensity  CO2 Emmitted  \n",
       "0         110.855888            170.04  18849.935258  \n",
       "1         107.341202            175.13  18798.664668  \n",
       "2         105.550308            175.53  18527.245603  \n",
       "3         106.840103            174.22  18613.682771  \n",
       "4         105.879791            175.05  18534.257460  "
      ]
     },
     "execution_count": 270,
     "metadata": {},
     "output_type": "execute_result"
    }
   ],
   "source": [
    "gen.drop(columns=['Hour'], inplace=True)\n",
    "gen.head()"
   ]
  },
  {
   "cell_type": "code",
   "execution_count": 271,
   "metadata": {},
   "outputs": [
    {
     "data": {
      "image/png": "[encoded data removed]",
      "text/plain": [
       "<Figure size 640x480 with 1 Axes>"
      ]
     },
     "metadata": {},
     "output_type": "display_data"
    }
   ],
   "source": [
    "import matplotlib.pyplot as plt\n",
    "\n",
    "plt.plot(gen[\"ds\"], gen[\"Carbon Intensity\"])\n",
    "plt.show()"
   ]
  },
  {
   "cell_type": "code",
   "execution_count": 272,
   "metadata": {},
   "outputs": [],
   "source": [
    "battery_limit = 100\n",
    "daily_charge = 0\n",
    "daily_discharge = 0\n",
    "current_battery = 0\n",
    "charge_list = []\n",
    "discharge_list = []\n",
    "battery_level_list = []"
   ]
  },
  {
   "cell_type": "code",
   "execution_count": 273,
   "metadata": {},
   "outputs": [],
   "source": [
    "for index, row in gen.iterrows():\n",
    "    timestamp = row[\"ds\"]\n",
    "    solar_diff = row[\"Solar Diff\"]\n",
    "    total_consumption = row[\"Total Consumption\"]\n",
    "\n",
    "    # Initialize charge and discharge amounts\n",
    "    charge_amount = 0\n",
    "    discharge_amount = 0\n",
    "\n",
    "    # Charge the battery if Solar Diff is positive and no discharge occurs in the same hour\n",
    "    if solar_diff > 0 and (index == 0 or discharge_list[-1] == 0):\n",
    "        charge_amount = min(solar_diff, battery_limit - current_battery, battery_limit - daily_charge)\n",
    "        current_battery += charge_amount\n",
    "        daily_charge += charge_amount\n",
    "\n",
    "    # Discharge starting from 18:00, based on Total Consumption, and only if no charging happened this hour\n",
    "    if timestamp.hour >= 18 and current_battery > 0 and charge_amount == 0:\n",
    "        discharge_amount = min(total_consumption, current_battery, battery_limit - daily_discharge)\n",
    "        current_battery -= discharge_amount\n",
    "        daily_discharge += discharge_amount\n",
    "\n",
    "    # Store charge, discharge, and battery level\n",
    "    charge_list.append(charge_amount)\n",
    "    discharge_list.append(discharge_amount)\n",
    "    battery_level_list.append(current_battery)\n",
    "\n",
    "    # Reset daily charge and discharge at midnight\n",
    "    if timestamp.hour == 0:\n",
    "        daily_charge = 0\n",
    "        daily_discharge = 0\n",
    "\n",
    "# Add new columns to gen\n",
    "gen[\"Current Battery Level\"] = battery_level_list\n",
    "gen[\"Battery Charge\"] = charge_list\n",
    "gen[\"Battery Discharge\"] = discharge_list\n",
    "gen[\"Reduction Energy Consumed From Grid\"] = gen[\"Total Consumption\"] - gen[\"Battery Discharge\"]\n",
    "gen[\"CO2 Optimised\"] = gen[\"Reduction Energy Consumed From Grid\"] * gen[\"Carbon Intensity\"]"
   ]
  },
  {
   "cell_type": "code",
   "execution_count": 274,
   "metadata": {},
   "outputs": [
    {
     "data": {
      "text/html": [
       "<div>\n",
       "<style scoped>\n",
       "    .dataframe tbody tr th:only-of-type {\n",
       "        vertical-align: middle;\n",
       "    }\n",
       "\n",
       "    .dataframe tbody tr th {\n",
       "        vertical-align: top;\n",
       "    }\n",
       "\n",
       "    .dataframe thead th {\n",
       "        text-align: right;\n",
       "    }\n",
       "</style>\n",
       "<table border=\"1\" class=\"dataframe\">\n",
       "  <thead>\n",
       "    <tr style=\"text-align: right;\">\n",
       "      <th></th>\n",
       "      <th>ds</th>\n",
       "      <th>Production</th>\n",
       "      <th>Solar Consumption</th>\n",
       "      <th>Solar Diff</th>\n",
       "      <th>Total Consumption</th>\n",
       "      <th>Carbon Intensity</th>\n",
       "      <th>CO2 Emmitted</th>\n",
       "      <th>Current Battery Level</th>\n",
       "      <th>Battery Charge</th>\n",
       "      <th>Battery Discharge</th>\n",
       "      <th>Reduction Energy Consumed From Grid</th>\n",
       "      <th>CO2 Optimised</th>\n",
       "    </tr>\n",
       "  </thead>\n",
       "  <tbody>\n",
       "    <tr>\n",
       "      <th>0</th>\n",
       "      <td>2024-09-01 00:00:00</td>\n",
       "      <td>0.0</td>\n",
       "      <td>0.0</td>\n",
       "      <td>0.0</td>\n",
       "      <td>110.855888</td>\n",
       "      <td>170.04</td>\n",
       "      <td>18849.935258</td>\n",
       "      <td>0.0</td>\n",
       "      <td>0.0</td>\n",
       "      <td>0.0</td>\n",
       "      <td>110.855888</td>\n",
       "      <td>18849.935258</td>\n",
       "    </tr>\n",
       "    <tr>\n",
       "      <th>1</th>\n",
       "      <td>2024-09-01 01:00:00</td>\n",
       "      <td>0.0</td>\n",
       "      <td>0.0</td>\n",
       "      <td>0.0</td>\n",
       "      <td>107.341202</td>\n",
       "      <td>175.13</td>\n",
       "      <td>18798.664668</td>\n",
       "      <td>0.0</td>\n",
       "      <td>0.0</td>\n",
       "      <td>0.0</td>\n",
       "      <td>107.341202</td>\n",
       "      <td>18798.664668</td>\n",
       "    </tr>\n",
       "    <tr>\n",
       "      <th>2</th>\n",
       "      <td>2024-09-01 02:00:00</td>\n",
       "      <td>0.0</td>\n",
       "      <td>0.0</td>\n",
       "      <td>0.0</td>\n",
       "      <td>105.550308</td>\n",
       "      <td>175.53</td>\n",
       "      <td>18527.245603</td>\n",
       "      <td>0.0</td>\n",
       "      <td>0.0</td>\n",
       "      <td>0.0</td>\n",
       "      <td>105.550308</td>\n",
       "      <td>18527.245603</td>\n",
       "    </tr>\n",
       "    <tr>\n",
       "      <th>3</th>\n",
       "      <td>2024-09-01 03:00:00</td>\n",
       "      <td>0.0</td>\n",
       "      <td>0.0</td>\n",
       "      <td>0.0</td>\n",
       "      <td>106.840103</td>\n",
       "      <td>174.22</td>\n",
       "      <td>18613.682771</td>\n",
       "      <td>0.0</td>\n",
       "      <td>0.0</td>\n",
       "      <td>0.0</td>\n",
       "      <td>106.840103</td>\n",
       "      <td>18613.682771</td>\n",
       "    </tr>\n",
       "    <tr>\n",
       "      <th>4</th>\n",
       "      <td>2024-09-01 04:00:00</td>\n",
       "      <td>0.0</td>\n",
       "      <td>0.0</td>\n",
       "      <td>0.0</td>\n",
       "      <td>105.879791</td>\n",
       "      <td>175.05</td>\n",
       "      <td>18534.257460</td>\n",
       "      <td>0.0</td>\n",
       "      <td>0.0</td>\n",
       "      <td>0.0</td>\n",
       "      <td>105.879791</td>\n",
       "      <td>18534.257460</td>\n",
       "    </tr>\n",
       "  </tbody>\n",
       "</table>\n",
       "</div>"
      ],
      "text/plain": [
       "                   ds  Production  Solar Consumption  Solar Diff  \\\n",
       "0 2024-09-01 00:00:00         0.0                0.0         0.0   \n",
       "1 2024-09-01 01:00:00         0.0                0.0         0.0   \n",
       "2 2024-09-01 02:00:00         0.0                0.0         0.0   \n",
       "3 2024-09-01 03:00:00         0.0                0.0         0.0   \n",
       "4 2024-09-01 04:00:00         0.0                0.0         0.0   \n",
       "\n",
       "   Total Consumption  Carbon Intensity  CO2 Emmitted  Current Battery Level  \\\n",
       "0         110.855888            170.04  18849.935258                    0.0   \n",
       "1         107.341202            175.13  18798.664668                    0.0   \n",
       "2         105.550308            175.53  18527.245603                    0.0   \n",
       "3         106.840103            174.22  18613.682771                    0.0   \n",
       "4         105.879791            175.05  18534.257460                    0.0   \n",
       "\n",
       "   Battery Charge  Battery Discharge  Reduction Energy Consumed From Grid  \\\n",
       "0             0.0                0.0                           110.855888   \n",
       "1             0.0                0.0                           107.341202   \n",
       "2             0.0                0.0                           105.550308   \n",
       "3             0.0                0.0                           106.840103   \n",
       "4             0.0                0.0                           105.879791   \n",
       "\n",
       "   CO2 Optimised  \n",
       "0   18849.935258  \n",
       "1   18798.664668  \n",
       "2   18527.245603  \n",
       "3   18613.682771  \n",
       "4   18534.257460  "
      ]
     },
     "execution_count": 274,
     "metadata": {},
     "output_type": "execute_result"
    }
   ],
   "source": [
    "gen.head()"
   ]
  },
  {
   "cell_type": "code",
   "execution_count": 275,
   "metadata": {},
   "outputs": [],
   "source": [
    "#gen.to_csv('Challenge2_OVER.csv') #Change sep at will"
   ]
  },
  {
   "cell_type": "code",
   "execution_count": 276,
   "metadata": {},
   "outputs": [
    {
     "name": "stdout",
     "output_type": "stream",
     "text": [
      "1.05327315916479\n"
     ]
    }
   ],
   "source": [
    "ra = (gen[\"Solar Consumption\"].sum()+gen[\"Battery Discharge\"].sum())/gen[\"Production\"].sum()\n",
    "print(ra)"
   ]
  },
  {
   "cell_type": "code",
   "execution_count": null,
   "metadata": {},
   "outputs": [],
   "source": []
  }
 ],
 "metadata": {
  "kernelspec": {
   "display_name": "Python 3",
   "language": "python",
   "name": "python3"
  },
  "language_info": {
   "codemirror_mode": {
    "name": "ipython",
    "version": 3
   },
   "file_extension": ".py",
   "mimetype": "text/x-python",
   "name": "python",
   "nbconvert_exporter": "python",
   "pygments_lexer": "ipython3",
   "version": "3.13.2"
  }
 },
 "nbformat": 4,
 "nbformat_minor": 2
}
