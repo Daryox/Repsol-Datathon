{
 "cells": [
  {
   "cell_type": "code",
   "execution_count": 1,
   "metadata": {},
   "outputs": [],
   "source": [
    "import pandas as pd\n",
    "import numpy as np\n",
    "from sklearn.metrics import mean_absolute_error, mean_absolute_percentage_error\n",
    "import matplotlib.pyplot as plt\n",
    "import seaborn as sns \n",
    "from sklearn.experimental import enable_iterative_imputer \n",
    "from sklearn.impute import IterativeImputer\n",
    "\n"
   ]
  },
  {
   "cell_type": "code",
   "execution_count": 2,
   "metadata": {},
   "outputs": [],
   "source": [
    "# Load solar generation data\n",
    "solar_df = pd.read_csv(\"datasets/Generacion_fotovoltaica.csv\", sep=\",\")\n",
    "# Load weather data\n",
    "weather_df = pd.read_csv(\"datasets/Meteorologia.csv\", sep=\",\")\n",
    "consumption= pd.read_csv(\"datasets/Consumo_sept.csv\", sep=\",\")\n"
   ]
  },
  {
   "cell_type": "code",
   "execution_count": 3,
   "metadata": {},
   "outputs": [
    {
     "name": "stdout",
     "output_type": "stream",
     "text": [
      "(9708, 2)\n",
      "                 FECHA  TOTAL_KWH_ENERGIA\n",
      "0  2023-07-24 11:00:00                NaN\n",
      "1  2023-07-24 12:00:00             115.66\n",
      "2  2023-07-24 13:00:00             129.98\n",
      "3  2023-07-24 14:00:00             134.35\n",
      "4  2023-07-24 15:00:00             133.90\n",
      "                    FECHA  TOTAL_KWH_ENERGIA\n",
      "9703  2024-08-31 19:00:00                NaN\n",
      "9704  2024-08-31 20:00:00                NaN\n",
      "9705  2024-08-31 21:00:00                NaN\n",
      "9706  2024-08-31 22:00:00                NaN\n",
      "9707  2024-08-31 23:00:00                NaN\n",
      "(100557, 27)\n",
      "               FORECAST_TIMESTAMP  LATITUDE  LONGITUDE  \\\n",
      "100552  2024-10-31 19:00:00+00:00      40.5       -3.5   \n",
      "100553  2024-10-31 20:00:00+00:00      40.5       -3.5   \n",
      "100554  2024-10-31 21:00:00+00:00      40.5       -3.5   \n",
      "100555  2024-10-31 22:00:00+00:00      40.5       -3.5   \n",
      "100556  2024-10-31 23:00:00+00:00      40.5       -3.5   \n",
      "\n",
      "        10uheightAboveGround_10  10vheightAboveGround_10  \\\n",
      "100552                -1.515610                 0.914978   \n",
      "100553                -0.758618                 1.620525   \n",
      "100554                -0.599971                 1.527935   \n",
      "100555                -1.420417                 1.414846   \n",
      "100556                -1.703437                 1.640642   \n",
      "\n",
      "        2rheightAboveGround_2  2shheightAboveGround_2  2theightAboveGround_2  \\\n",
      "100552                   60.0                0.007987             290.736934   \n",
      "100553                   63.8                0.007911             289.628125   \n",
      "100554                   66.9                0.007852             288.801836   \n",
      "100555                   68.3                0.007774             288.305859   \n",
      "100556                   70.5                0.007682             287.639941   \n",
      "\n",
      "        SUNSDsurface_0  aptmpheightAboveGround_2  ...   spsurface_0  \\\n",
      "100552             0.0                290.747119  ...  94514.231250   \n",
      "100553             0.0                289.591248  ...  94542.484375   \n",
      "100554             0.0                288.833850  ...  94573.962500   \n",
      "100555             0.0                288.343433  ...  94594.331250   \n",
      "100556             0.0                287.584033  ...  94592.437500   \n",
      "\n",
      "        tccatmosphere_0  theightAboveGround_80  tmaxheightAboveGround_2  \\\n",
      "100552             56.6             290.670273               290.899238   \n",
      "100553             65.8             290.036563               290.899238   \n",
      "100554             35.9             289.335586               290.899238   \n",
      "100555             30.5             288.730078               290.895859   \n",
      "100556             86.1             287.939297               290.899941   \n",
      "\n",
      "        tminheightAboveGround_2  tozneatmosphereSingleLayer_0  tpsurface_0  \\\n",
      "100552               290.726934                    295.502661          0.0   \n",
      "100553               289.630059                    295.607007          0.0   \n",
      "100554               288.800527                    294.524219          0.0   \n",
      "100555               288.300527                    293.401611          0.0   \n",
      "100556               287.640527                    292.220996          0.0   \n",
      "\n",
      "        tsurface_0  uheightAboveGround_80  vheightAboveGround_80  \n",
      "100552  289.097119              -2.300679               2.322466  \n",
      "100553  287.037329              -0.981880               2.815010  \n",
      "100554  285.914941              -0.491460               2.447852  \n",
      "100555  285.514941              -1.662617               2.301050  \n",
      "100556  285.129858              -2.118813               3.033606  \n",
      "\n",
      "[5 rows x 27 columns]\n"
     ]
    }
   ],
   "source": [
    "# Check shape and preview\n",
    "print(solar_df.shape)\n",
    "print(solar_df.head())\n",
    "print(solar_df.tail())\n",
    "\n",
    "print(weather_df.shape)\n",
    "print(weather_df.tail())"
   ]
  },
  {
   "cell_type": "code",
   "execution_count": 4,
   "metadata": {},
   "outputs": [],
   "source": [
    "solar_df.rename(columns={'FECHA': 'Datetime','TOTAL_KWH_ENERGIA': 'KWH_ENERGIA'}, inplace=True)\n",
    "\n",
    "weather_df.rename(columns={'FORECAST_TIMESTAMP': 'Datetime'}, inplace=True)"
   ]
  },
  {
   "cell_type": "code",
   "execution_count": 5,
   "metadata": {},
   "outputs": [],
   "source": [
    "# Convert solar datetime to timezone-aware if needed\n",
    "solar_df['Datetime'] = pd.to_datetime(solar_df['Datetime'])\n",
    "\n",
    "# Weather is in UTC → convert to Europe/Madrid\n",
    "weather_df['Datetime'] = pd.to_datetime(weather_df['Datetime'])\n",
    "weather_df['Datetime'] = weather_df['Datetime'].dt.tz_convert('Europe/Madrid')\n",
    "\n",
    "# Remove tz info to match solar_df\n",
    "weather_df['Datetime'] = weather_df['Datetime'].dt.tz_localize(None)"
   ]
  },
  {
   "cell_type": "code",
   "execution_count": 6,
   "metadata": {},
   "outputs": [],
   "source": [
    "solar_df['hour'] = solar_df['Datetime'].dt.hour\n",
    "solar_df['day'] = solar_df['Datetime'].dt.day\n",
    "solar_df['month'] = solar_df['Datetime'].dt.month\n",
    "solar_df['year'] = solar_df['Datetime'].dt.year\n",
    "solar_df['weekday'] = solar_df['Datetime'].dt.weekday  # Monday=0, Sunday=6"
   ]
  },
  {
   "cell_type": "code",
   "execution_count": 7,
   "metadata": {},
   "outputs": [
    {
     "data": {
      "text/plain": [
       "False"
      ]
     },
     "execution_count": 7,
     "metadata": {},
     "output_type": "execute_result"
    }
   ],
   "source": [
    "weather_df['Datetime'].dt.tz is not None"
   ]
  },
  {
   "cell_type": "code",
   "execution_count": 8,
   "metadata": {},
   "outputs": [
    {
     "name": "stdout",
     "output_type": "stream",
     "text": [
      "Solar missing:\n",
      " Datetime          0\n",
      "KWH_ENERGIA    1164\n",
      "hour              0\n",
      "day               0\n",
      "month             0\n",
      "year              0\n",
      "weekday           0\n",
      "dtype: int64\n"
     ]
    }
   ],
   "source": [
    "# Check for missing values\n",
    "print(\"Solar missing:\\n\", solar_df.isnull().sum())"
   ]
  },
  {
   "cell_type": "code",
   "execution_count": 9,
   "metadata": {},
   "outputs": [
    {
     "name": "stdout",
     "output_type": "stream",
     "text": [
      "Weather missing:\n",
      " Datetime                        0\n",
      "LATITUDE                        0\n",
      "LONGITUDE                       0\n",
      "10uheightAboveGround_10         0\n",
      "10vheightAboveGround_10         0\n",
      "2rheightAboveGround_2           0\n",
      "2shheightAboveGround_2          0\n",
      "2theightAboveGround_2           0\n",
      "SUNSDsurface_0                  1\n",
      "aptmpheightAboveGround_2        0\n",
      "dlwrfsurface_0                  0\n",
      "dswrfsurface_0                  0\n",
      "gustsurface_0                   0\n",
      "msletmeanSea_0                  0\n",
      "presheightAboveGround_80        0\n",
      "pwatatmosphereSingleLayer_0     0\n",
      "qheightAboveGround_80           0\n",
      "spsurface_0                     0\n",
      "tccatmosphere_0                 0\n",
      "theightAboveGround_80           0\n",
      "tmaxheightAboveGround_2         0\n",
      "tminheightAboveGround_2         0\n",
      "tozneatmosphereSingleLayer_0    0\n",
      "tpsurface_0                     0\n",
      "tsurface_0                      0\n",
      "uheightAboveGround_80           0\n",
      "vheightAboveGround_80           0\n",
      "dtype: int64\n"
     ]
    }
   ],
   "source": [
    "print(\"Weather missing:\\n\", weather_df.isnull().sum())"
   ]
  },
  {
   "cell_type": "code",
   "execution_count": 10,
   "metadata": {},
   "outputs": [
    {
     "name": "stdout",
     "output_type": "stream",
     "text": [
      "0   2023-07-24 13:00:00\n",
      "1   2023-07-24 14:00:00\n",
      "2   2023-07-24 15:00:00\n",
      "3   2023-07-24 16:00:00\n",
      "4   2023-07-24 17:00:00\n",
      "Name: Datetime, dtype: datetime64[ns]\n"
     ]
    }
   ],
   "source": [
    "print(weather_df['Datetime'].head())\n"
   ]
  },
  {
   "cell_type": "code",
   "execution_count": 11,
   "metadata": {},
   "outputs": [
    {
     "name": "stdout",
     "output_type": "stream",
     "text": [
      "Solar missing:\n",
      " Datetime          0\n",
      "KWH_ENERGIA    1164\n",
      "hour              0\n",
      "day               0\n",
      "month             0\n",
      "year              0\n",
      "weekday           0\n",
      "dtype: int64\n",
      "Weather missing:\n",
      " Datetime                        0\n",
      "LATITUDE                        0\n",
      "LONGITUDE                       0\n",
      "10uheightAboveGround_10         0\n",
      "10vheightAboveGround_10         0\n",
      "2rheightAboveGround_2           0\n",
      "2shheightAboveGround_2          0\n",
      "2theightAboveGround_2           0\n",
      "SUNSDsurface_0                  1\n",
      "aptmpheightAboveGround_2        0\n",
      "dlwrfsurface_0                  0\n",
      "dswrfsurface_0                  0\n",
      "gustsurface_0                   0\n",
      "msletmeanSea_0                  0\n",
      "presheightAboveGround_80        0\n",
      "pwatatmosphereSingleLayer_0     0\n",
      "qheightAboveGround_80           0\n",
      "spsurface_0                     0\n",
      "tccatmosphere_0                 0\n",
      "theightAboveGround_80           0\n",
      "tmaxheightAboveGround_2         0\n",
      "tminheightAboveGround_2         0\n",
      "tozneatmosphereSingleLayer_0    0\n",
      "tpsurface_0                     0\n",
      "tsurface_0                      0\n",
      "uheightAboveGround_80           0\n",
      "vheightAboveGround_80           0\n",
      "dtype: int64\n",
      "count    8544.000000\n",
      "mean       25.395279\n",
      "std        40.258814\n",
      "min        -0.150000\n",
      "25%         0.000000\n",
      "50%         0.990000\n",
      "75%        32.635000\n",
      "max       153.050000\n",
      "Name: KWH_ENERGIA, dtype: float64\n",
      "Zero values: 3590\n"
     ]
    }
   ],
   "source": [
    "# Check for missing values\n",
    "print(\"Solar missing:\\n\", solar_df.isnull().sum())\n",
    "print(\"Weather missing:\\n\", weather_df.isnull().sum())\n",
    "\n",
    "#Check for 0 or negative solar generation\n",
    "print(solar_df['KWH_ENERGIA'].describe())\n",
    "print(\"Zero values:\", (solar_df['KWH_ENERGIA'] == 0).sum())"
   ]
  },
  {
   "cell_type": "code",
   "execution_count": 12,
   "metadata": {},
   "outputs": [
    {
     "data": {
      "text/plain": [
       "Datetime                        0\n",
       "LATITUDE                        0\n",
       "LONGITUDE                       0\n",
       "10uheightAboveGround_10         0\n",
       "10vheightAboveGround_10         0\n",
       "2rheightAboveGround_2           0\n",
       "2shheightAboveGround_2          0\n",
       "2theightAboveGround_2           0\n",
       "SUNSDsurface_0                  1\n",
       "aptmpheightAboveGround_2        0\n",
       "dlwrfsurface_0                  0\n",
       "dswrfsurface_0                  0\n",
       "gustsurface_0                   0\n",
       "msletmeanSea_0                  0\n",
       "presheightAboveGround_80        0\n",
       "pwatatmosphereSingleLayer_0     0\n",
       "qheightAboveGround_80           0\n",
       "spsurface_0                     0\n",
       "tccatmosphere_0                 0\n",
       "theightAboveGround_80           0\n",
       "tmaxheightAboveGround_2         0\n",
       "tminheightAboveGround_2         0\n",
       "tozneatmosphereSingleLayer_0    0\n",
       "tpsurface_0                     0\n",
       "tsurface_0                      0\n",
       "uheightAboveGround_80           0\n",
       "vheightAboveGround_80           0\n",
       "dtype: int64"
      ]
     },
     "execution_count": 12,
     "metadata": {},
     "output_type": "execute_result"
    }
   ],
   "source": [
    "weather_df.isnull().sum()\n"
   ]
  },
  {
   "cell_type": "code",
   "execution_count": 13,
   "metadata": {},
   "outputs": [
    {
     "data": {
      "image/png": "[encoded data removed]",
      "text/plain": [
       "<Figure size 1200x500 with 1 Axes>"
      ]
     },
     "metadata": {},
     "output_type": "display_data"
    }
   ],
   "source": [
    "import matplotlib.pyplot as plt\n",
    "\n",
    "# Count NaNs by hour of the day\n",
    "nan_by_hour = solar_df[solar_df['KWH_ENERGIA'].isna()]['hour'].value_counts().sort_index()\n",
    "zero_by_hour = solar_df[solar_df['KWH_ENERGIA'] == 0]['hour'].value_counts().sort_index()\n",
    "\n",
    "plt.figure(figsize=(12, 5))\n",
    "plt.bar(nan_by_hour.index, nan_by_hour.values, alpha=0.6, label='NaNs')\n",
    "plt.bar(zero_by_hour.index, zero_by_hour.values, alpha=0.6, label='Zeros')\n",
    "plt.title(\"Distribution of NaNs and Zeros by Hour of Day\")\n",
    "plt.xlabel(\"Hour\")\n",
    "plt.ylabel(\"Count\")\n",
    "plt.legend()\n",
    "plt.grid()\n",
    "plt.show()"
   ]
  },
  {
   "cell_type": "code",
   "execution_count": 14,
   "metadata": {},
   "outputs": [
    {
     "data": {
      "image/png": "[encoded data removed]",
      "text/plain": [
       "<Figure size 1400x500 with 1 Axes>"
      ]
     },
     "metadata": {},
     "output_type": "display_data"
    }
   ],
   "source": [
    "# Count missing values per day\n",
    "solar_df['date'] = solar_df['Datetime'].dt.date\n",
    "nan_per_day = solar_df[solar_df['KWH_ENERGIA'].isna()].groupby('date').size()\n",
    "\n",
    "plt.figure(figsize=(14, 5))\n",
    "nan_per_day.plot(kind='bar')\n",
    "plt.title(\"Missing Values Per Day\")\n",
    "plt.xlabel(\"Date\")\n",
    "plt.ylabel(\"Missing Count\")\n",
    "plt.xticks(rotation=90)\n",
    "plt.grid()\n",
    "plt.tight_layout()\n",
    "plt.show()"
   ]
  },
  {
   "cell_type": "code",
   "execution_count": 15,
   "metadata": {},
   "outputs": [
    {
     "data": {
      "image/png": "[encoded data removed]",
      "text/plain": [
       "<Figure size 2000x600 with 2 Axes>"
      ]
     },
     "metadata": {},
     "output_type": "display_data"
    }
   ],
   "source": [
    "import seaborn as sns\n",
    "\n",
    "# Create a pivot table to see missing per hour per day\n",
    "heat_df = solar_df.copy()\n",
    "heat_df['hour'] = heat_df['Datetime'].dt.hour\n",
    "heat_df['date'] = heat_df['Datetime'].dt.date\n",
    "heat_df['missing'] = heat_df['KWH_ENERGIA'].isna().astype(int)\n",
    "\n",
    "pivot = heat_df.pivot_table(index='hour', columns='date', values='missing', fill_value=0)\n",
    "\n",
    "plt.figure(figsize=(20, 6))\n",
    "sns.heatmap(pivot, cmap='YlOrRd', cbar_kws={'label': 'Missing (1=NaN)'})\n",
    "plt.title(\"Heatmap of Missing Solar Generation Data\")\n",
    "plt.xlabel(\"Date\")\n",
    "plt.ylabel(\"Hour of Day\")\n",
    "plt.show()"
   ]
  },
  {
   "cell_type": "code",
   "execution_count": 16,
   "metadata": {},
   "outputs": [
    {
     "name": "stdout",
     "output_type": "stream",
     "text": [
      "KWH_ENERGIA    0.119901\n",
      "Datetime       0.000000\n",
      "hour           0.000000\n",
      "day            0.000000\n",
      "month          0.000000\n",
      "year           0.000000\n",
      "weekday        0.000000\n",
      "date           0.000000\n",
      "dtype: float64\n"
     ]
    }
   ],
   "source": [
    "print(solar_df.isnull().mean().sort_values(ascending=False))"
   ]
  },
  {
   "cell_type": "code",
   "execution_count": 17,
   "metadata": {},
   "outputs": [
    {
     "name": "stdout",
     "output_type": "stream",
     "text": [
      "SUNSDsurface_0                  0.00001\n",
      "LATITUDE                        0.00000\n",
      "Datetime                        0.00000\n",
      "LONGITUDE                       0.00000\n",
      "10uheightAboveGround_10         0.00000\n",
      "2rheightAboveGround_2           0.00000\n",
      "10vheightAboveGround_10         0.00000\n",
      "2shheightAboveGround_2          0.00000\n",
      "2theightAboveGround_2           0.00000\n",
      "aptmpheightAboveGround_2        0.00000\n",
      "dlwrfsurface_0                  0.00000\n",
      "dswrfsurface_0                  0.00000\n",
      "gustsurface_0                   0.00000\n",
      "msletmeanSea_0                  0.00000\n",
      "presheightAboveGround_80        0.00000\n",
      "pwatatmosphereSingleLayer_0     0.00000\n",
      "qheightAboveGround_80           0.00000\n",
      "spsurface_0                     0.00000\n",
      "tccatmosphere_0                 0.00000\n",
      "theightAboveGround_80           0.00000\n",
      "tmaxheightAboveGround_2         0.00000\n",
      "tminheightAboveGround_2         0.00000\n",
      "tozneatmosphereSingleLayer_0    0.00000\n",
      "tpsurface_0                     0.00000\n",
      "tsurface_0                      0.00000\n",
      "uheightAboveGround_80           0.00000\n",
      "vheightAboveGround_80           0.00000\n",
      "dtype: float64\n"
     ]
    }
   ],
   "source": [
    "print(weather_df.isnull().mean().sort_values(ascending=False))"
   ]
  },
  {
   "cell_type": "code",
   "execution_count": null,
   "metadata": {},
   "outputs": [],
   "source": []
  },
  {
   "cell_type": "code",
   "execution_count": null,
   "metadata": {},
   "outputs": [],
   "source": []
  },
  {
   "cell_type": "code",
   "execution_count": 18,
   "metadata": {},
   "outputs": [],
   "source": [
    "solar_df1 = solar_df.copy()\n",
    "\n",
    "# Define daylight hours\n",
    "solar_df1['hour'] = solar_df1['Datetime'].dt.hour\n",
    "solar_df1['is_daylight'] = solar_df1['hour'].between(6, 20)\n",
    "\n",
    "# Fill NaNs at night with 0\n",
    "solar_df1.loc[(solar_df1['KWH_ENERGIA'].isna()) & (~solar_df1['is_daylight']), 'KWH_ENERGIA'] = 0\n",
    "\n",
    "# Drop remaining NaNs (daytime sensor errors)\n",
    "solar_df1 = solar_df1[~solar_df1['KWH_ENERGIA'].isna()]"
   ]
  },
  {
   "cell_type": "code",
   "execution_count": 19,
   "metadata": {},
   "outputs": [],
   "source": [
    "solar_df2 = solar_df.copy()\n",
    "\n",
    "# Set Datetime as index\n",
    "solar_df2.set_index('Datetime', inplace=True)\n",
    "\n",
    "# Now interpolate\n",
    "solar_df2['KWH_ENERGIA'] = solar_df2['KWH_ENERGIA'].interpolate(method='time')\n",
    "\n",
    "# Optional: Drop any NaNs still left at edges\n",
    "solar_df2 = solar_df2.dropna(subset=['KWH_ENERGIA'])\n",
    "\n",
    "# Reset index to bring 'Datetime' back as a column\n",
    "solar_df2 = solar_df2.reset_index()\n"
   ]
  },
  {
   "cell_type": "code",
   "execution_count": 20,
   "metadata": {},
   "outputs": [],
   "source": [
    "# Merge method for any df\n",
    "def merge_solar_weather(solar_df, weather_df):\n",
    "    solar_df['Datetime'] = pd.to_datetime(solar_df['Datetime']).dt.round('H')\n",
    "    weather_df['Datetime'] = pd.to_datetime(weather_df['Datetime']).dt.round('H')\n",
    "    \n",
    "    merged = pd.merge(solar_df, weather_df, on='Datetime', how='inner')\n",
    "    return merged"
   ]
  },
  {
   "cell_type": "code",
   "execution_count": 21,
   "metadata": {},
   "outputs": [
    {
     "name": "stderr",
     "output_type": "stream",
     "text": [
      "C:\\Users\\dario\\AppData\\Local\\Temp\\ipykernel_13772\\1848125610.py:3: FutureWarning: 'H' is deprecated and will be removed in a future version, please use 'h' instead.\n",
      "  solar_df['Datetime'] = pd.to_datetime(solar_df['Datetime']).dt.round('H')\n",
      "C:\\Users\\dario\\AppData\\Local\\Temp\\ipykernel_13772\\1848125610.py:4: FutureWarning: 'H' is deprecated and will be removed in a future version, please use 'h' instead.\n",
      "  weather_df['Datetime'] = pd.to_datetime(weather_df['Datetime']).dt.round('H')\n",
      "C:\\Users\\dario\\AppData\\Local\\Temp\\ipykernel_13772\\1848125610.py:3: FutureWarning: 'H' is deprecated and will be removed in a future version, please use 'h' instead.\n",
      "  solar_df['Datetime'] = pd.to_datetime(solar_df['Datetime']).dt.round('H')\n",
      "C:\\Users\\dario\\AppData\\Local\\Temp\\ipykernel_13772\\1848125610.py:4: FutureWarning: 'H' is deprecated and will be removed in a future version, please use 'h' instead.\n",
      "  weather_df['Datetime'] = pd.to_datetime(weather_df['Datetime']).dt.round('H')\n"
     ]
    }
   ],
   "source": [
    "merged_df1 = merge_solar_weather(solar_df1, weather_df)\n",
    "merged_df2 = merge_solar_weather(solar_df2, weather_df)"
   ]
  },
  {
   "cell_type": "code",
   "execution_count": 22,
   "metadata": {},
   "outputs": [
    {
     "data": {
      "text/plain": [
       "['Datetime',\n",
       " 'LATITUDE',\n",
       " 'LONGITUDE',\n",
       " '10uheightAboveGround_10',\n",
       " '10vheightAboveGround_10',\n",
       " '2rheightAboveGround_2',\n",
       " '2shheightAboveGround_2',\n",
       " '2theightAboveGround_2',\n",
       " 'SUNSDsurface_0',\n",
       " 'aptmpheightAboveGround_2',\n",
       " 'dlwrfsurface_0',\n",
       " 'dswrfsurface_0',\n",
       " 'gustsurface_0',\n",
       " 'msletmeanSea_0',\n",
       " 'presheightAboveGround_80',\n",
       " 'pwatatmosphereSingleLayer_0',\n",
       " 'qheightAboveGround_80',\n",
       " 'spsurface_0',\n",
       " 'tccatmosphere_0',\n",
       " 'theightAboveGround_80',\n",
       " 'tmaxheightAboveGround_2',\n",
       " 'tminheightAboveGround_2',\n",
       " 'tozneatmosphereSingleLayer_0',\n",
       " 'tpsurface_0',\n",
       " 'tsurface_0',\n",
       " 'uheightAboveGround_80',\n",
       " 'vheightAboveGround_80']"
      ]
     },
     "execution_count": 22,
     "metadata": {},
     "output_type": "execute_result"
    }
   ],
   "source": [
    "weather_df.columns.tolist()\n"
   ]
  },
  {
   "cell_type": "code",
   "execution_count": 23,
   "metadata": {},
   "outputs": [
    {
     "name": "stdout",
     "output_type": "stream",
     "text": [
      "KWH_ENERGIA                     1.000000e+00\n",
      "dswrfsurface_0                  7.271273e-01\n",
      "tsurface_0                      5.809983e-01\n",
      "SUNSDsurface_0                  5.485263e-01\n",
      "is_daylight                     4.978934e-01\n",
      "2theightAboveGround_2           3.579617e-01\n",
      "aptmpheightAboveGround_2        3.478628e-01\n",
      "hour                            2.656038e-01\n",
      "theightAboveGround_80           2.631939e-01\n",
      "tmaxheightAboveGround_2         2.575227e-01\n",
      "tminheightAboveGround_2         2.052189e-01\n",
      "dlwrfsurface_0                  1.266441e-01\n",
      "10vheightAboveGround_10         5.762297e-02\n",
      "year                            5.740295e-02\n",
      "10uheightAboveGround_10         5.572013e-02\n",
      "vheightAboveGround_80           4.536921e-02\n",
      "tozneatmosphereSingleLayer_0    3.075245e-02\n",
      "day                             2.814591e-02\n",
      "presheightAboveGround_80        2.582825e-02\n",
      "uheightAboveGround_80           2.560332e-02\n",
      "spsurface_0                     1.877964e-02\n",
      "LATITUDE                        7.640879e-14\n",
      "LONGITUDE                       5.296705e-15\n",
      "month                          -1.891515e-02\n",
      "pwatatmosphereSingleLayer_0    -1.957675e-02\n",
      "2shheightAboveGround_2         -5.822544e-02\n",
      "msletmeanSea_0                 -6.682406e-02\n",
      "qheightAboveGround_80          -6.767996e-02\n",
      "tpsurface_0                    -7.386030e-02\n",
      "gustsurface_0                  -8.611050e-02\n",
      "tccatmosphere_0                -1.171714e-01\n",
      "weekday                        -1.472209e-01\n",
      "2rheightAboveGround_2          -3.919201e-01\n",
      "Name: KWH_ENERGIA, dtype: float64\n"
     ]
    }
   ],
   "source": [
    "# Merge solar + weather (cleaned)\n",
    "merged = pd.merge(solar_df1, weather_df, on='Datetime', how='inner')\n",
    "\n",
    "# Compute correlations with target\n",
    "corr = merged.corr(numeric_only=True)['KWH_ENERGIA'].sort_values(ascending=False)\n",
    "print(corr)\n"
   ]
  },
  {
   "cell_type": "code",
   "execution_count": 24,
   "metadata": {},
   "outputs": [],
   "source": [
    "# Choose numeric weather features automatically (excluding 'Datetime' and 'LATITUDE', 'LONGITUDE')\n",
    "all_weather_features = [col for col in weather_df.columns \n",
    "                        if weather_df[col].dtype in ['float64', 'int64']\n",
    "                        and col not in ['LATITUDE', 'LONGITUDE']]\n",
    "\n",
    "# Add time features\n",
    "full_features = all_weather_features + ['hour', 'month', 'weekday']\n",
    "\n",
    "# Train/test as before\n",
    "X = merged[full_features]\n",
    "y = merged['KWH_ENERGIA']\n"
   ]
  },
  {
   "cell_type": "code",
   "execution_count": 25,
   "metadata": {},
   "outputs": [
    {
     "ename": "NameError",
     "evalue": "name 'model1' is not defined",
     "output_type": "error",
     "traceback": [
      "\u001b[31m---------------------------------------------------------------------------\u001b[39m",
      "\u001b[31mNameError\u001b[39m                                 Traceback (most recent call last)",
      "\u001b[36mCell\u001b[39m\u001b[36m \u001b[39m\u001b[32mIn[25]\u001b[39m\u001b[32m, line 4\u001b[39m\n\u001b[32m      1\u001b[39m \u001b[38;5;28;01mimport\u001b[39;00m\u001b[38;5;250m \u001b[39m\u001b[34;01mmatplotlib\u001b[39;00m\u001b[34;01m.\u001b[39;00m\u001b[34;01mpyplot\u001b[39;00m\u001b[38;5;250m \u001b[39m\u001b[38;5;28;01mas\u001b[39;00m\u001b[38;5;250m \u001b[39m\u001b[34;01mplt\u001b[39;00m\n\u001b[32m      3\u001b[39m \u001b[38;5;66;03m# Get feature importance from your best model\u001b[39;00m\n\u001b[32m----> \u001b[39m\u001b[32m4\u001b[39m importances = \u001b[43mmodel1\u001b[49m.feature_importances_\n\u001b[32m      5\u001b[39m feature_names = weather_features\n\u001b[32m      7\u001b[39m \u001b[38;5;66;03m# Plot\u001b[39;00m\n",
      "\u001b[31mNameError\u001b[39m: name 'model1' is not defined"
     ]
    }
   ],
   "source": [
    "import matplotlib.pyplot as plt\n",
    "\n",
    "# Get feature importance from your best model\n",
    "importances = model1.feature_importances_\n",
    "feature_names = weather_features\n",
    "\n",
    "# Plot\n",
    "plt.figure(figsize=(10, 5))\n",
    "plt.barh(feature_names, importances)\n",
    "plt.xlabel(\"Feature Importance\")\n",
    "plt.title(\"LightGBM Feature Importance\")\n",
    "plt.gca().invert_yaxis()\n",
    "plt.grid()\n",
    "plt.show()\n"
   ]
  },
  {
   "cell_type": "code",
   "execution_count": null,
   "metadata": {},
   "outputs": [
    {
     "name": "stdout",
     "output_type": "stream",
     "text": [
      "KWH_ENERGIA              1.000000\n",
      "dswrfsurface_0           0.727127\n",
      "SUNSDsurface_0           0.548526\n",
      "2theightAboveGround_2    0.357962\n",
      "hour                     0.265604\n",
      "month                   -0.018915\n",
      "gustsurface_0           -0.086110\n",
      "tccatmosphere_0         -0.117171\n",
      "weekday                 -0.147221\n",
      "2rheightAboveGround_2   -0.391920\n",
      "Name: KWH_ENERGIA, dtype: float64\n"
     ]
    }
   ],
   "source": [
    "# Check correlation matrix\n",
    "corr_matrix = merged_df1[weather_features + ['KWH_ENERGIA']].corr()\n",
    "\n",
    "# Focus on correlation with the target\n",
    "corr_with_target = corr_matrix['KWH_ENERGIA'].sort_values(ascending=False)\n",
    "print(corr_with_target)"
   ]
  },
  {
   "cell_type": "code",
   "execution_count": 26,
   "metadata": {},
   "outputs": [],
   "source": [
    "weather_features = [\n",
    "    'dswrfsurface_0',          # Direct shortwave radiation\n",
    "    'tccatmosphere_0',         # Total cloud cover\n",
    "    '2theightAboveGround_2',   # Air temperature at 2m\n",
    "    'SUNSDsurface_0',          # Sunshine duration\n",
    "    'gustsurface_0',           # Wind gusts\n",
    "    '2rheightAboveGround_2',   # Relative humidity\n",
    "    'hour', 'month', 'weekday' # Time-based features from Datetime\n",
    "]"
   ]
  },
  {
   "cell_type": "code",
   "execution_count": 27,
   "metadata": {},
   "outputs": [],
   "source": [
    "for df in [merged_df1, merged_df2]:\n",
    "    df['hour'] = df['Datetime'].dt.hour\n",
    "    df['month'] = df['Datetime'].dt.month\n",
    "    df['weekday'] = df['Datetime'].dt.weekday"
   ]
  },
  {
   "cell_type": "code",
   "execution_count": 28,
   "metadata": {},
   "outputs": [],
   "source": [
    "# Choose features + target\n",
    "X1 = merged_df1[weather_features]\n",
    "y1 = merged_df1['KWH_ENERGIA']\n",
    "\n",
    "X2 = merged_df2[weather_features]\n",
    "y2 = merged_df2['KWH_ENERGIA']"
   ]
  },
  {
   "cell_type": "code",
   "execution_count": 30,
   "metadata": {},
   "outputs": [
    {
     "name": "stdout",
     "output_type": "stream",
     "text": [
      "[LightGBM] [Info] Auto-choosing row-wise multi-threading, the overhead of testing was 0.006411 seconds.\n",
      "You can set `force_row_wise=true` to remove the overhead.\n",
      "And if memory is not enough, you can set `force_col_wise=true`.\n",
      "[LightGBM] [Info] Total Bins 1563\n",
      "[LightGBM] [Info] Number of data points in the train set: 64519, number of used features: 9\n",
      "[LightGBM] [Info] Start training from score 22.767760\n",
      "[LightGBM] [Info] Auto-choosing row-wise multi-threading, the overhead of testing was 0.001264 seconds.\n",
      "You can set `force_row_wise=true` to remove the overhead.\n",
      "And if memory is not enough, you can set `force_col_wise=true`.\n",
      "[LightGBM] [Info] Total Bins 1563\n",
      "[LightGBM] [Info] Number of data points in the train set: 69890, number of used features: 9\n",
      "[LightGBM] [Info] Start training from score 22.152245\n",
      "MAE (Night filled, day dropped): 8.4414\n",
      "MAE (Interpolated): 13.623\n"
     ]
    }
   ],
   "source": [
    "from lightgbm import LGBMRegressor\n",
    "from sklearn.metrics import mean_absolute_error\n",
    "from sklearn.model_selection import train_test_split\n",
    "\n",
    "# Split into train/test (e.g., last month for val)\n",
    "X1_train, X1_test, y1_train, y1_test = train_test_split(X1, y1, test_size=0.2, shuffle=False)\n",
    "X2_train, X2_test, y2_train, y2_test = train_test_split(X2, y2, test_size=0.2, shuffle=False)\n",
    "\n",
    "model1 = LGBMRegressor()\n",
    "model2 = LGBMRegressor()\n",
    "\n",
    "model1.fit(X1_train, y1_train)\n",
    "model2.fit(X2_train, y2_train)\n",
    "\n",
    "# Predict and evaluate\n",
    "pred1 = model1.predict(X1_test)\n",
    "pred2 = model2.predict(X2_test)\n",
    "\n",
    "mae1 = mean_absolute_error(y1_test, pred1)\n",
    "mae2 = mean_absolute_error(y2_test, pred2)\n",
    "\n",
    "print(\"MAE (Night filled, day dropped):\", round(mae1, 4))\n",
    "print(\"MAE (Interpolated):\", round(mae2, 4))"
   ]
  },
  {
   "cell_type": "code",
   "execution_count": 128,
   "metadata": {},
   "outputs": [],
   "source": [
    "import numpy as np\n",
    "from sklearn.experimental import enable_iterative_imputer\n",
    "from sklearn.impute import IterativeImputer\n",
    "\n",
    "# Make a fresh copy\n",
    "solar_hybrid = solar_df.copy()\n",
    "\n",
    "# Set Datetime as index for time-based imputation\n",
    "solar_hybrid.set_index('Datetime', inplace=True)\n",
    "\n",
    "# Fill NaNs at night with 0\n",
    "solar_hybrid['hour'] = solar_hybrid.index.hour\n",
    "solar_hybrid.loc[(solar_hybrid['hour'].isin([22, 23, 0, 1, 2, 3, 4, 5, 6, 7])) &\n",
    "                 (solar_hybrid['KWH_ENERGIA'].isna()), 'KWH_ENERGIA'] = 0\n",
    "\n",
    "# Use Iterative Imputer for the rest\n",
    "imp = IterativeImputer(max_iter=10, random_state=42)\n",
    "solar_hybrid['KWH_ENERGIA'] = imp.fit_transform(solar_hybrid[['KWH_ENERGIA']])\n",
    "\n",
    "# Reset index\n",
    "solar_hybrid = solar_hybrid.reset_index()\n"
   ]
  },
  {
   "cell_type": "code",
   "execution_count": 129,
   "metadata": {},
   "outputs": [],
   "source": [
    "solar_hybrid['month'] = solar_hybrid['Datetime'].dt.month\n",
    "solar_hybrid['day'] = solar_hybrid['Datetime'].dt.day\n",
    "solar_hybrid['hour'] = solar_hybrid['Datetime'].dt.hour\n",
    "solar_hybrid['weekday'] = solar_hybrid['Datetime'].dt.weekday\n",
    "\n",
    "# Cyclical encoding for time features\n",
    "solar_hybrid['hour_sin'] = np.sin(2 * np.pi * solar_hybrid['hour'] / 24)\n",
    "solar_hybrid['hour_cos'] = np.cos(2 * np.pi * solar_hybrid['hour'] / 24)\n",
    "\n",
    "solar_hybrid['month_sin'] = np.sin(2 * np.pi * solar_hybrid['month'] / 12)\n",
    "solar_hybrid['month_cos'] = np.cos(2 * np.pi * solar_hybrid['month'] / 12)\n"
   ]
  },
  {
   "cell_type": "code",
   "execution_count": 130,
   "metadata": {},
   "outputs": [
    {
     "name": "stderr",
     "output_type": "stream",
     "text": [
      "/var/folders/0d/kg6h6hgn2rj5smljr1pqgk0r0000gn/T/ipykernel_13320/3099038940.py:2: FutureWarning: 'H' is deprecated and will be removed in a future version, please use 'h' instead.\n",
      "  weather_df['Datetime'] = pd.to_datetime(weather_df['Datetime']).dt.round('H')\n",
      "/var/folders/0d/kg6h6hgn2rj5smljr1pqgk0r0000gn/T/ipykernel_13320/3099038940.py:3: FutureWarning: 'H' is deprecated and will be removed in a future version, please use 'h' instead.\n",
      "  solar_hybrid['Datetime'] = pd.to_datetime(solar_hybrid['Datetime']).dt.round('H')\n"
     ]
    }
   ],
   "source": [
    "# Ensure weather time is aligned\n",
    "weather_df['Datetime'] = pd.to_datetime(weather_df['Datetime']).dt.round('H')\n",
    "solar_hybrid['Datetime'] = pd.to_datetime(solar_hybrid['Datetime']).dt.round('H')\n",
    "\n",
    "# Merge\n",
    "hybrid_merged = pd.merge(solar_hybrid, weather_df, on='Datetime', how='inner')\n"
   ]
  },
  {
   "cell_type": "code",
   "execution_count": 131,
   "metadata": {},
   "outputs": [],
   "source": [
    "# Select best features from weather + cyclical\n",
    "features = [\n",
    "    'dswrfsurface_0', 'tccatmosphere_0', '2theightAboveGround_2',\n",
    "    'SUNSDsurface_0', 'gustsurface_0',\n",
    "    'hour_sin', 'hour_cos', 'month_sin', 'month_cos'\n",
    "]\n",
    "\n",
    "X_hybrid = hybrid_merged[features]\n",
    "y_hybrid = hybrid_merged['KWH_ENERGIA']\n"
   ]
  },
  {
   "cell_type": "code",
   "execution_count": 133,
   "metadata": {},
   "outputs": [
    {
     "name": "stdout",
     "output_type": "stream",
     "text": [
      "[LightGBM] [Info] Auto-choosing row-wise multi-threading, the overhead of testing was 0.000399 seconds.\n",
      "You can set `force_row_wise=true` to remove the overhead.\n",
      "And if memory is not enough, you can set `force_col_wise=true`.\n",
      "[LightGBM] [Info] Total Bins 1326\n",
      "[LightGBM] [Info] Number of data points in the train set: 69890, number of used features: 9\n",
      "[LightGBM] [Info] Start training from score 22.637693\n",
      "Hybrid LightGBM MAE: 14.4683\n",
      "Hybrid XGBoost MAE: 15.2635\n"
     ]
    }
   ],
   "source": [
    "from sklearn.model_selection import train_test_split\n",
    "from sklearn.metrics import mean_absolute_error\n",
    "from lightgbm import LGBMRegressor\n",
    "from xgboost import XGBRegressor\n",
    "\n",
    "# Split\n",
    "X_train, X_test, y_train, y_test = train_test_split(X_hybrid, y_hybrid, test_size=0.2, shuffle=False)\n",
    "\n",
    "# LightGBM\n",
    "lgb_model = LGBMRegressor()\n",
    "lgb_model.fit(X_train, y_train)\n",
    "lgb_preds = lgb_model.predict(X_test)\n",
    "\n",
    "# XGBoost\n",
    "xgb_model = XGBRegressor()\n",
    "xgb_model.fit(X_train, y_train)\n",
    "xgb_preds = xgb_model.predict(X_test)\n",
    "\n",
    "# Compare MAE\n",
    "mae_lgb = mean_absolute_error(y_test, lgb_preds)\n",
    "mae_xgb = mean_absolute_error(y_test, xgb_preds)\n",
    "\n",
    "print(\"Hybrid LightGBM MAE:\", round(mae_lgb, 4))\n",
    "print(\"Hybrid XGBoost MAE:\", round(mae_xgb, 4))\n"
   ]
  },
  {
   "cell_type": "code",
   "execution_count": 134,
   "metadata": {},
   "outputs": [],
   "source": [
    "weather_sept = weather_df[\n",
    "    (weather_df['Datetime'] >= '2024-09-01') &\n",
    "    (weather_df['Datetime'] < '2024-10-01')\n",
    "].copy()\n",
    "\n",
    "# Add time-based features\n",
    "weather_sept['hour'] = weather_sept['Datetime'].dt.hour\n",
    "weather_sept['month'] = weather_sept['Datetime'].dt.month\n",
    "weather_sept['weekday'] = weather_sept['Datetime'].dt.weekday\n"
   ]
  },
  {
   "cell_type": "code",
   "execution_count": 135,
   "metadata": {},
   "outputs": [],
   "source": [
    "weather_sept = weather_df[\n",
    "    (weather_df['Datetime'] >= '2024-09-01') &\n",
    "    (weather_df['Datetime'] < '2024-10-01')\n",
    "].copy()\n",
    "\n",
    "# Add time-based features\n",
    "weather_sept['hour'] = weather_sept['Datetime'].dt.hour\n",
    "weather_sept['month'] = weather_sept['Datetime'].dt.month\n",
    "weather_sept['weekday'] = weather_sept['Datetime'].dt.weekday\n"
   ]
  },
  {
   "cell_type": "code",
   "execution_count": 137,
   "metadata": {},
   "outputs": [],
   "source": [
    "# Use the same weather_features list you used for training\n",
    "weather_features = [\n",
    "    'dswrfsurface_0', 'tccatmosphere_0', '2theightAboveGround_2',\n",
    "    'SUNSDsurface_0', 'gustsurface_0',\n",
    "    '2rheightAboveGround_2',\n",
    "    'hour', 'month', 'weekday'\n",
    "]\n",
    "\n",
    "X_sept = weather_sept[weather_features]\n",
    "sept_preds = model1.predict(X_sept)  # model1 is your best LightGBM model\n"
   ]
  },
  {
   "cell_type": "code",
   "execution_count": 138,
   "metadata": {},
   "outputs": [],
   "source": [
    "output_df = pd.DataFrame({\n",
    "    'Datetime': weather_sept['Datetime'],\n",
    "    'KWH_ENERGIA': sept_preds.round(4)\n",
    "})\n",
    "\n",
    "# Save to CSV\n",
    "output_df.to_csv('predicted_solar_generation_september2024.csv', index=False)"
   ]
  },
  {
   "cell_type": "code",
   "execution_count": 139,
   "metadata": {},
   "outputs": [
    {
     "name": "stdout",
     "output_type": "stream",
     "text": [
      "Random Forest MAE: 14.1973\n"
     ]
    }
   ],
   "source": [
    "from sklearn.ensemble import RandomForestRegressor\n",
    "\n",
    "rf_model = RandomForestRegressor(n_estimators=100, random_state=42)\n",
    "rf_model.fit(X_train, y_train)\n",
    "rf_preds = rf_model.predict(X_test)\n",
    "\n",
    "mae_rf = mean_absolute_error(y_test, rf_preds)\n",
    "print(\"Random Forest MAE:\", round(mae_rf, 4))"
   ]
  },
  {
   "cell_type": "code",
   "execution_count": 141,
   "metadata": {},
   "outputs": [
    {
     "name": "stdout",
     "output_type": "stream",
     "text": [
      "HistGradientBoosting MAE: 14.6\n"
     ]
    }
   ],
   "source": [
    "from sklearn.ensemble import HistGradientBoostingRegressor\n",
    "\n",
    "hgb_model = HistGradientBoostingRegressor()\n",
    "hgb_model.fit(X_train, y_train)\n",
    "hgb_preds = hgb_model.predict(X_test)\n",
    "\n",
    "mae_hgb = mean_absolute_error(y_test, hgb_preds)\n",
    "print(\"HistGradientBoosting MAE:\", round(mae_hgb, 4))"
   ]
  },
  {
   "cell_type": "code",
   "execution_count": 150,
   "metadata": {},
   "outputs": [],
   "source": [
    "best_features = [\n",
    "    'dswrfsurface_0',\n",
    "    'tsurface_0',\n",
    "    'SUNSDsurface_0',\n",
    "    '2theightAboveGround_2',\n",
    "    'aptmpheightAboveGround_2',\n",
    "    'theightAboveGround_80',\n",
    "    'tmaxheightAboveGround_2',\n",
    "    'tminheightAboveGround_2',\n",
    "    'hour', 'month', 'weekday'\n",
    "]\n"
   ]
  },
  {
   "cell_type": "code",
   "execution_count": 151,
   "metadata": {},
   "outputs": [],
   "source": [
    "for df in [merged_df1, merged_df2]:\n",
    "    df['hour'] = df['Datetime'].dt.hour\n",
    "    df['month'] = df['Datetime'].dt.month\n",
    "    df['weekday'] = df['Datetime'].dt.weekday"
   ]
  },
  {
   "cell_type": "code",
   "execution_count": 152,
   "metadata": {},
   "outputs": [],
   "source": [
    "# Choose features + target\n",
    "X3 = merged_df1[best_features]\n",
    "y3 = merged_df1['KWH_ENERGIA']\n",
    "\n",
    "X4 = merged_df2[best_features]\n",
    "y4 = merged_df2['KWH_ENERGIA']"
   ]
  },
  {
   "cell_type": "code",
   "execution_count": 154,
   "metadata": {},
   "outputs": [
    {
     "name": "stdout",
     "output_type": "stream",
     "text": [
      "[LightGBM] [Info] Auto-choosing row-wise multi-threading, the overhead of testing was 0.000541 seconds.\n",
      "You can set `force_row_wise=true` to remove the overhead.\n",
      "And if memory is not enough, you can set `force_col_wise=true`.\n",
      "[LightGBM] [Info] Total Bins 2084\n",
      "[LightGBM] [Info] Number of data points in the train set: 64519, number of used features: 11\n",
      "[LightGBM] [Info] Start training from score 22.767760\n",
      "[LightGBM] [Info] Auto-choosing row-wise multi-threading, the overhead of testing was 0.000405 seconds.\n",
      "You can set `force_row_wise=true` to remove the overhead.\n",
      "And if memory is not enough, you can set `force_col_wise=true`.\n",
      "[LightGBM] [Info] Total Bins 2084\n",
      "[LightGBM] [Info] Number of data points in the train set: 69890, number of used features: 11\n",
      "[LightGBM] [Info] Start training from score 22.152245\n",
      "NEW MAE (Best Features + Night=0/Day Dropped): 9.0026\n",
      "NEW MAE (Best Features + Interpolated): 14.3947\n"
     ]
    }
   ],
   "source": [
    "best_model_df1 = LGBMRegressor()\n",
    "best_model_df2 = LGBMRegressor()\n",
    "\n",
    "best_model_df1.fit(X3_train, y3_train)\n",
    "best_model_df2.fit(X4_train, y4_train)\n",
    "\n",
    "pred_df1 = best_model_df1.predict(X3_test)\n",
    "pred_df2 = best_model_df2.predict(X4_test)\n",
    "\n",
    "mae_df1 = mean_absolute_error(y3_test, pred_df1)\n",
    "mae_df2 = mean_absolute_error(y4_test, pred_df2)\n",
    "\n",
    "print(\"NEW MAE (Best Features + Night=0/Day Dropped):\", round(mae_df1, 4))\n",
    "print(\"NEW MAE (Best Features + Interpolated):\", round(mae_df2, 4))\n"
   ]
  },
  {
   "cell_type": "code",
   "execution_count": 155,
   "metadata": {},
   "outputs": [
    {
     "data": {
      "image/png": "[encoded data removed]",
      "text/plain": [
       "<Figure size 1000x500 with 1 Axes>"
      ]
     },
     "metadata": {},
     "output_type": "display_data"
    }
   ],
   "source": [
    "import matplotlib.pyplot as plt\n",
    "\n",
    "importances = best_model_df1.feature_importances_\n",
    "\n",
    "plt.figure(figsize=(10, 5))\n",
    "plt.barh(best_features, importances)\n",
    "plt.xlabel(\"Feature Importance\")\n",
    "plt.title(\"Feature Importance – Best Model with Top Weather Features\")\n",
    "plt.gca().invert_yaxis()\n",
    "plt.grid()\n",
    "plt.show()\n"
   ]
  }
 ],
 "metadata": {
  "kernelspec": {
   "display_name": "Python 3",
   "language": "python",
   "name": "python3"
  },
  "language_info": {
   "codemirror_mode": {
    "name": "ipython",
    "version": 3
   },
   "file_extension": ".py",
   "mimetype": "text/x-python",
   "name": "python",
   "nbconvert_exporter": "python",
   "pygments_lexer": "ipython3",
   "version": "3.13.2"
  }
 },
 "nbformat": 4,
 "nbformat_minor": 2
}
