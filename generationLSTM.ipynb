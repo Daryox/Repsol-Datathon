{
 "cells": [
  {
   "cell_type": "code",
   "execution_count": 106,
   "metadata": {},
   "outputs": [],
   "source": [
    "import pandas as pd\n",
    "import numpy as np\n",
    "import xgboost as xgb\n",
    "from sklearn.metrics import mean_absolute_error, mean_absolute_percentage_error\n",
    "import matplotlib.pyplot as plt\n",
    "import seaborn as sns \n",
    "from sklearn.experimental import enable_iterative_imputer \n",
    "from sklearn.impute import IterativeImputer\n",
    "import xgboost as xgb\n"
   ]
  },
  {
   "cell_type": "code",
   "execution_count": 107,
   "metadata": {},
   "outputs": [],
   "source": [
    "\n",
    "generation = pd.read_csv(\"datasets/Generacion_fotovoltaica.csv\", sep=\",\")"
   ]
  },
  {
   "cell_type": "code",
   "execution_count": 108,
   "metadata": {},
   "outputs": [
    {
     "data": {
      "text/html": [
       "<div>\n",
       "<style scoped>\n",
       "    .dataframe tbody tr th:only-of-type {\n",
       "        vertical-align: middle;\n",
       "    }\n",
       "\n",
       "    .dataframe tbody tr th {\n",
       "        vertical-align: top;\n",
       "    }\n",
       "\n",
       "    .dataframe thead th {\n",
       "        text-align: right;\n",
       "    }\n",
       "</style>\n",
       "<table border=\"1\" class=\"dataframe\">\n",
       "  <thead>\n",
       "    <tr style=\"text-align: right;\">\n",
       "      <th></th>\n",
       "      <th>ds</th>\n",
       "      <th>year</th>\n",
       "      <th>month</th>\n",
       "      <th>day</th>\n",
       "      <th>weekday</th>\n",
       "      <th>is_weekend</th>\n",
       "      <th>hour</th>\n",
       "      <th>y</th>\n",
       "    </tr>\n",
       "  </thead>\n",
       "  <tbody>\n",
       "    <tr>\n",
       "      <th>0</th>\n",
       "      <td>2023-07-24 11:00:00</td>\n",
       "      <td>2023</td>\n",
       "      <td>7</td>\n",
       "      <td>24</td>\n",
       "      <td>0</td>\n",
       "      <td>0</td>\n",
       "      <td>11</td>\n",
       "      <td>NaN</td>\n",
       "    </tr>\n",
       "    <tr>\n",
       "      <th>1</th>\n",
       "      <td>2023-07-24 12:00:00</td>\n",
       "      <td>2023</td>\n",
       "      <td>7</td>\n",
       "      <td>24</td>\n",
       "      <td>0</td>\n",
       "      <td>0</td>\n",
       "      <td>12</td>\n",
       "      <td>115.66</td>\n",
       "    </tr>\n",
       "    <tr>\n",
       "      <th>2</th>\n",
       "      <td>2023-07-24 13:00:00</td>\n",
       "      <td>2023</td>\n",
       "      <td>7</td>\n",
       "      <td>24</td>\n",
       "      <td>0</td>\n",
       "      <td>0</td>\n",
       "      <td>13</td>\n",
       "      <td>129.98</td>\n",
       "    </tr>\n",
       "    <tr>\n",
       "      <th>3</th>\n",
       "      <td>2023-07-24 14:00:00</td>\n",
       "      <td>2023</td>\n",
       "      <td>7</td>\n",
       "      <td>24</td>\n",
       "      <td>0</td>\n",
       "      <td>0</td>\n",
       "      <td>14</td>\n",
       "      <td>134.35</td>\n",
       "    </tr>\n",
       "    <tr>\n",
       "      <th>4</th>\n",
       "      <td>2023-07-24 15:00:00</td>\n",
       "      <td>2023</td>\n",
       "      <td>7</td>\n",
       "      <td>24</td>\n",
       "      <td>0</td>\n",
       "      <td>0</td>\n",
       "      <td>15</td>\n",
       "      <td>133.90</td>\n",
       "    </tr>\n",
       "    <tr>\n",
       "      <th>...</th>\n",
       "      <td>...</td>\n",
       "      <td>...</td>\n",
       "      <td>...</td>\n",
       "      <td>...</td>\n",
       "      <td>...</td>\n",
       "      <td>...</td>\n",
       "      <td>...</td>\n",
       "      <td>...</td>\n",
       "    </tr>\n",
       "    <tr>\n",
       "      <th>9703</th>\n",
       "      <td>2024-08-31 19:00:00</td>\n",
       "      <td>2024</td>\n",
       "      <td>8</td>\n",
       "      <td>31</td>\n",
       "      <td>5</td>\n",
       "      <td>1</td>\n",
       "      <td>19</td>\n",
       "      <td>NaN</td>\n",
       "    </tr>\n",
       "    <tr>\n",
       "      <th>9704</th>\n",
       "      <td>2024-08-31 20:00:00</td>\n",
       "      <td>2024</td>\n",
       "      <td>8</td>\n",
       "      <td>31</td>\n",
       "      <td>5</td>\n",
       "      <td>1</td>\n",
       "      <td>20</td>\n",
       "      <td>NaN</td>\n",
       "    </tr>\n",
       "    <tr>\n",
       "      <th>9705</th>\n",
       "      <td>2024-08-31 21:00:00</td>\n",
       "      <td>2024</td>\n",
       "      <td>8</td>\n",
       "      <td>31</td>\n",
       "      <td>5</td>\n",
       "      <td>1</td>\n",
       "      <td>21</td>\n",
       "      <td>NaN</td>\n",
       "    </tr>\n",
       "    <tr>\n",
       "      <th>9706</th>\n",
       "      <td>2024-08-31 22:00:00</td>\n",
       "      <td>2024</td>\n",
       "      <td>8</td>\n",
       "      <td>31</td>\n",
       "      <td>5</td>\n",
       "      <td>1</td>\n",
       "      <td>22</td>\n",
       "      <td>NaN</td>\n",
       "    </tr>\n",
       "    <tr>\n",
       "      <th>9707</th>\n",
       "      <td>2024-08-31 23:00:00</td>\n",
       "      <td>2024</td>\n",
       "      <td>8</td>\n",
       "      <td>31</td>\n",
       "      <td>5</td>\n",
       "      <td>1</td>\n",
       "      <td>23</td>\n",
       "      <td>NaN</td>\n",
       "    </tr>\n",
       "  </tbody>\n",
       "</table>\n",
       "<p>9708 rows × 8 columns</p>\n",
       "</div>"
      ],
      "text/plain": [
       "                      ds  year  month  day  weekday  is_weekend  hour       y\n",
       "0    2023-07-24 11:00:00  2023      7   24        0           0    11     NaN\n",
       "1    2023-07-24 12:00:00  2023      7   24        0           0    12  115.66\n",
       "2    2023-07-24 13:00:00  2023      7   24        0           0    13  129.98\n",
       "3    2023-07-24 14:00:00  2023      7   24        0           0    14  134.35\n",
       "4    2023-07-24 15:00:00  2023      7   24        0           0    15  133.90\n",
       "...                  ...   ...    ...  ...      ...         ...   ...     ...\n",
       "9703 2024-08-31 19:00:00  2024      8   31        5           1    19     NaN\n",
       "9704 2024-08-31 20:00:00  2024      8   31        5           1    20     NaN\n",
       "9705 2024-08-31 21:00:00  2024      8   31        5           1    21     NaN\n",
       "9706 2024-08-31 22:00:00  2024      8   31        5           1    22     NaN\n",
       "9707 2024-08-31 23:00:00  2024      8   31        5           1    23     NaN\n",
       "\n",
       "[9708 rows x 8 columns]"
      ]
     },
     "execution_count": 108,
     "metadata": {},
     "output_type": "execute_result"
    }
   ],
   "source": [
    "# Rename columns to Prophet defaults\n",
    "generation.rename(columns={'FECHA': 'ds', 'TOTAL_KWH_ENERGIA': 'y'}, inplace=True)\n",
    "\n",
    "# Convert the 'ds' column to datetime\n",
    "generation['ds'] = pd.to_datetime(generation['ds'])\n",
    "\n",
    "# Augment the dataset with year, month, day, and hour\n",
    "generation['year'] = generation['ds'].dt.year\n",
    "generation['month'] = generation['ds'].dt.month\n",
    "generation['day'] = generation['ds'].dt.day\n",
    "generation['hour'] = generation['ds'].dt.hour\n",
    "\n",
    "# Note: Extracting the day of the week (0-6, where 0 is Monday)\n",
    "generation['weekday'] = generation['ds'].dt.weekday\n",
    "\n",
    "generation['is_weekend'] = (generation['weekday'] >= 5).astype(int)  # 1 if Sat/Sun, else 0\n",
    "\n",
    "#Augmented dataset\n",
    "generation = generation[['ds', 'year', 'month', 'day', 'weekday', 'is_weekend', 'hour', 'y']]\n",
    "\n",
    "# Clip negative values in 'y' to 0\n",
    "generation['y'] = generation['y'].clip(lower=0)\n",
    "\n",
    "\n",
    "generation"
   ]
  },
  {
   "cell_type": "code",
   "execution_count": 109,
   "metadata": {},
   "outputs": [
    {
     "data": {
      "text/plain": [
       "(9708, 8)"
      ]
     },
     "execution_count": 109,
     "metadata": {},
     "output_type": "execute_result"
    }
   ],
   "source": [
    "generation.shape"
   ]
  },
  {
   "cell_type": "code",
   "execution_count": 110,
   "metadata": {},
   "outputs": [
    {
     "data": {
      "text/plain": [
       "1164"
      ]
     },
     "execution_count": 110,
     "metadata": {},
     "output_type": "execute_result"
    }
   ],
   "source": [
    "sum(generation['y'].isnull())"
   ]
  },
  {
   "cell_type": "code",
   "execution_count": 111,
   "metadata": {},
   "outputs": [
    {
     "name": "stdout",
     "output_type": "stream",
     "text": [
      "699\n"
     ]
    }
   ],
   "source": [
    "# Impute null values to 0 for the specified hours\n",
    "generation.loc[generation['hour'].isin([22, 23, 0, 1, 2, 3, 4, 5, 6, 7]) & generation['y'].isnull(), 'y'] = 0\n",
    "\n",
    "print(sum(generation['y'].isnull()))\n"
   ]
  },
  {
   "cell_type": "code",
   "execution_count": 112,
   "metadata": {},
   "outputs": [],
   "source": [
    "missing_mask = generation['y'].isna()"
   ]
  },
  {
   "cell_type": "code",
   "execution_count": 113,
   "metadata": {},
   "outputs": [],
   "source": [
    "\n",
    "# Load the dataset (assuming it's already in memory)\n",
    "df = generation.copy()\n",
    "\n",
    "# Filter for remaining NaNs after zero imputation\n",
    "df_missing = df[df['y'].isna()]"
   ]
  },
  {
   "cell_type": "code",
   "execution_count": 114,
   "metadata": {},
   "outputs": [
    {
     "data": {
      "text/plain": [
       "53"
      ]
     },
     "execution_count": 114,
     "metadata": {},
     "output_type": "execute_result"
    }
   ],
   "source": [
    "potential_na_fix = generation[generation['y'].isna() & generation['month'].isin([10, 11, 12, 1, 2]) & generation['hour'].isin([19,20,21,8])]\n",
    "len(potential_na_fix)"
   ]
  },
  {
   "cell_type": "code",
   "execution_count": 115,
   "metadata": {},
   "outputs": [],
   "source": [
    "# Initialize the Iterative Imputer\n",
    "imputer = IterativeImputer(max_iter=10, random_state=0)\n",
    "\n",
    "# Select the columns to impute\n",
    "columns_to_impute = ['y']\n",
    "\n",
    "# Apply the imputer to the 'y' column\n",
    "generation[columns_to_impute] = imputer.fit_transform(generation[columns_to_impute])"
   ]
  },
  {
   "cell_type": "code",
   "execution_count": 116,
   "metadata": {},
   "outputs": [
    {
     "data": {
      "text/plain": [
       "ds            0\n",
       "year          0\n",
       "month         0\n",
       "day           0\n",
       "weekday       0\n",
       "is_weekend    0\n",
       "hour          0\n",
       "y             0\n",
       "dtype: int64"
      ]
     },
     "execution_count": 116,
     "metadata": {},
     "output_type": "execute_result"
    }
   ],
   "source": [
    "generation.isna().sum()"
   ]
  },
  {
   "cell_type": "code",
   "execution_count": 117,
   "metadata": {},
   "outputs": [],
   "source": [
    "meteo = pd.read_csv(\"datasets/Meteorologia.csv\", sep=\",\")"
   ]
  },
  {
   "cell_type": "code",
   "execution_count": 118,
   "metadata": {},
   "outputs": [
    {
     "data": {
      "text/plain": [
       "(100557, 27)"
      ]
     },
     "execution_count": 118,
     "metadata": {},
     "output_type": "execute_result"
    }
   ],
   "source": [
    "meteo.shape"
   ]
  },
  {
   "cell_type": "code",
   "execution_count": 119,
   "metadata": {},
   "outputs": [
    {
     "name": "stdout",
     "output_type": "stream",
     "text": [
      "1\n"
     ]
    }
   ],
   "source": [
    "counter = 0\n",
    "for i in meteo:\n",
    "    if meteo[i].isnull().any():\n",
    "        counter += 1\n",
    "\n",
    "print(counter)"
   ]
  },
  {
   "cell_type": "code",
   "execution_count": 120,
   "metadata": {},
   "outputs": [],
   "source": [
    "meteo[\"FORECAST_TIMESTAMP\"] = pd.to_datetime(meteo[\"FORECAST_TIMESTAMP\"])\n",
    "# Convert 'ds' in generation to UTC timezone (same as 'FORECAST_TIMESTAMP' in meteo_filtered)\n"
   ]
  },
  {
   "cell_type": "code",
   "execution_count": 121,
   "metadata": {},
   "outputs": [
    {
     "data": {
      "text/html": [
       "<div>\n",
       "<style scoped>\n",
       "    .dataframe tbody tr th:only-of-type {\n",
       "        vertical-align: middle;\n",
       "    }\n",
       "\n",
       "    .dataframe tbody tr th {\n",
       "        vertical-align: top;\n",
       "    }\n",
       "\n",
       "    .dataframe thead th {\n",
       "        text-align: right;\n",
       "    }\n",
       "</style>\n",
       "<table border=\"1\" class=\"dataframe\">\n",
       "  <thead>\n",
       "    <tr style=\"text-align: right;\">\n",
       "      <th></th>\n",
       "      <th>ds</th>\n",
       "      <th>year</th>\n",
       "      <th>month</th>\n",
       "      <th>day</th>\n",
       "      <th>weekday</th>\n",
       "      <th>is_weekend</th>\n",
       "      <th>hour</th>\n",
       "      <th>10uheightAboveGround_10</th>\n",
       "      <th>10vheightAboveGround_10</th>\n",
       "      <th>2rheightAboveGround_2</th>\n",
       "      <th>...</th>\n",
       "      <th>tccatmosphere_0</th>\n",
       "      <th>theightAboveGround_80</th>\n",
       "      <th>tmaxheightAboveGround_2</th>\n",
       "      <th>tminheightAboveGround_2</th>\n",
       "      <th>tozneatmosphereSingleLayer_0</th>\n",
       "      <th>tpsurface_0</th>\n",
       "      <th>tsurface_0</th>\n",
       "      <th>uheightAboveGround_80</th>\n",
       "      <th>vheightAboveGround_80</th>\n",
       "      <th>y</th>\n",
       "    </tr>\n",
       "  </thead>\n",
       "  <tbody>\n",
       "    <tr>\n",
       "      <th>0</th>\n",
       "      <td>2023-07-24 11:00:00</td>\n",
       "      <td>2023</td>\n",
       "      <td>7</td>\n",
       "      <td>24</td>\n",
       "      <td>0</td>\n",
       "      <td>0</td>\n",
       "      <td>11</td>\n",
       "      <td>6.989717</td>\n",
       "      <td>1.524463</td>\n",
       "      <td>19.6</td>\n",
       "      <td>...</td>\n",
       "      <td>0.8</td>\n",
       "      <td>298.878662</td>\n",
       "      <td>301.632129</td>\n",
       "      <td>291.701489</td>\n",
       "      <td>324.006396</td>\n",
       "      <td>0.0</td>\n",
       "      <td>316.100012</td>\n",
       "      <td>7.979102</td>\n",
       "      <td>1.763457</td>\n",
       "      <td>24.085597</td>\n",
       "    </tr>\n",
       "    <tr>\n",
       "      <th>1</th>\n",
       "      <td>2023-07-24 11:00:00</td>\n",
       "      <td>2023</td>\n",
       "      <td>7</td>\n",
       "      <td>24</td>\n",
       "      <td>0</td>\n",
       "      <td>0</td>\n",
       "      <td>11</td>\n",
       "      <td>6.629717</td>\n",
       "      <td>1.254463</td>\n",
       "      <td>17.5</td>\n",
       "      <td>...</td>\n",
       "      <td>0.0</td>\n",
       "      <td>299.078662</td>\n",
       "      <td>301.832129</td>\n",
       "      <td>292.501489</td>\n",
       "      <td>322.706396</td>\n",
       "      <td>0.0</td>\n",
       "      <td>316.600012</td>\n",
       "      <td>7.379102</td>\n",
       "      <td>1.483457</td>\n",
       "      <td>24.085597</td>\n",
       "    </tr>\n",
       "    <tr>\n",
       "      <th>2</th>\n",
       "      <td>2023-07-24 11:00:00</td>\n",
       "      <td>2023</td>\n",
       "      <td>7</td>\n",
       "      <td>24</td>\n",
       "      <td>0</td>\n",
       "      <td>0</td>\n",
       "      <td>11</td>\n",
       "      <td>5.919717</td>\n",
       "      <td>1.214463</td>\n",
       "      <td>15.9</td>\n",
       "      <td>...</td>\n",
       "      <td>0.0</td>\n",
       "      <td>298.778662</td>\n",
       "      <td>301.332129</td>\n",
       "      <td>292.801489</td>\n",
       "      <td>321.706396</td>\n",
       "      <td>0.0</td>\n",
       "      <td>316.500012</td>\n",
       "      <td>6.679102</td>\n",
       "      <td>1.453457</td>\n",
       "      <td>24.085597</td>\n",
       "    </tr>\n",
       "    <tr>\n",
       "      <th>3</th>\n",
       "      <td>2023-07-24 11:00:00</td>\n",
       "      <td>2023</td>\n",
       "      <td>7</td>\n",
       "      <td>24</td>\n",
       "      <td>0</td>\n",
       "      <td>0</td>\n",
       "      <td>11</td>\n",
       "      <td>5.559717</td>\n",
       "      <td>3.944463</td>\n",
       "      <td>18.6</td>\n",
       "      <td>...</td>\n",
       "      <td>5.0</td>\n",
       "      <td>299.078662</td>\n",
       "      <td>301.732129</td>\n",
       "      <td>292.001489</td>\n",
       "      <td>325.806396</td>\n",
       "      <td>0.0</td>\n",
       "      <td>316.400012</td>\n",
       "      <td>6.229102</td>\n",
       "      <td>3.803457</td>\n",
       "      <td>24.085597</td>\n",
       "    </tr>\n",
       "    <tr>\n",
       "      <th>4</th>\n",
       "      <td>2023-07-24 11:00:00</td>\n",
       "      <td>2023</td>\n",
       "      <td>7</td>\n",
       "      <td>24</td>\n",
       "      <td>0</td>\n",
       "      <td>0</td>\n",
       "      <td>11</td>\n",
       "      <td>6.449717</td>\n",
       "      <td>3.024463</td>\n",
       "      <td>17.4</td>\n",
       "      <td>...</td>\n",
       "      <td>3.6</td>\n",
       "      <td>298.978662</td>\n",
       "      <td>301.832129</td>\n",
       "      <td>292.501489</td>\n",
       "      <td>324.806396</td>\n",
       "      <td>0.0</td>\n",
       "      <td>316.500012</td>\n",
       "      <td>7.329102</td>\n",
       "      <td>3.113457</td>\n",
       "      <td>24.085597</td>\n",
       "    </tr>\n",
       "  </tbody>\n",
       "</table>\n",
       "<p>5 rows × 32 columns</p>\n",
       "</div>"
      ],
      "text/plain": [
       "                   ds  year  month  day  weekday  is_weekend  hour  \\\n",
       "0 2023-07-24 11:00:00  2023      7   24        0           0    11   \n",
       "1 2023-07-24 11:00:00  2023      7   24        0           0    11   \n",
       "2 2023-07-24 11:00:00  2023      7   24        0           0    11   \n",
       "3 2023-07-24 11:00:00  2023      7   24        0           0    11   \n",
       "4 2023-07-24 11:00:00  2023      7   24        0           0    11   \n",
       "\n",
       "   10uheightAboveGround_10  10vheightAboveGround_10  2rheightAboveGround_2  \\\n",
       "0                 6.989717                 1.524463                   19.6   \n",
       "1                 6.629717                 1.254463                   17.5   \n",
       "2                 5.919717                 1.214463                   15.9   \n",
       "3                 5.559717                 3.944463                   18.6   \n",
       "4                 6.449717                 3.024463                   17.4   \n",
       "\n",
       "   ...  tccatmosphere_0  theightAboveGround_80  tmaxheightAboveGround_2  \\\n",
       "0  ...              0.8             298.878662               301.632129   \n",
       "1  ...              0.0             299.078662               301.832129   \n",
       "2  ...              0.0             298.778662               301.332129   \n",
       "3  ...              5.0             299.078662               301.732129   \n",
       "4  ...              3.6             298.978662               301.832129   \n",
       "\n",
       "   tminheightAboveGround_2  tozneatmosphereSingleLayer_0  tpsurface_0  \\\n",
       "0               291.701489                    324.006396          0.0   \n",
       "1               292.501489                    322.706396          0.0   \n",
       "2               292.801489                    321.706396          0.0   \n",
       "3               292.001489                    325.806396          0.0   \n",
       "4               292.501489                    324.806396          0.0   \n",
       "\n",
       "   tsurface_0  uheightAboveGround_80  vheightAboveGround_80          y  \n",
       "0  316.100012               7.979102               1.763457  24.085597  \n",
       "1  316.600012               7.379102               1.483457  24.085597  \n",
       "2  316.500012               6.679102               1.453457  24.085597  \n",
       "3  316.400012               6.229102               3.803457  24.085597  \n",
       "4  316.500012               7.329102               3.113457  24.085597  \n",
       "\n",
       "[5 rows x 32 columns]"
      ]
     },
     "execution_count": 121,
     "metadata": {},
     "output_type": "execute_result"
    }
   ],
   "source": [
    "meteo_filtered = meteo.drop(columns=['LATITUDE', 'LONGITUDE'])\n",
    "meteo_filtered['FORECAST_TIMESTAMP'] = meteo_filtered['FORECAST_TIMESTAMP'].dt.tz_localize(None)  # Remove timezone\n",
    "generation['ds'] = generation['ds'].dt.tz_localize(None)  # Remove timezone from 'ds' if any\n",
    "\n",
    "generation = generation.merge(meteo_filtered, left_on='ds', right_on='FORECAST_TIMESTAMP', how='left')\n",
    "\n",
    "# Drop the 'FORECAST_TIMESTAMP' column after merging (if you don't need it)\n",
    "generation.drop(columns=['FORECAST_TIMESTAMP'], inplace=True)\n",
    "\n",
    "# Optionally, reorder the column 'y' back to its original position if needed\n",
    "aux = generation['y']\n",
    "generation = generation.drop(columns=['y'])\n",
    "generation['y'] = aux\n",
    "\n",
    "# Display the first few rows of the result\n",
    "generation.head()"
   ]
  },
  {
   "cell_type": "code",
   "execution_count": 122,
   "metadata": {},
   "outputs": [
    {
     "data": {
      "text/plain": [
       "(87372, 32)"
      ]
     },
     "execution_count": 122,
     "metadata": {},
     "output_type": "execute_result"
    }
   ],
   "source": [
    "generation.shape"
   ]
  },
  {
   "cell_type": "code",
   "execution_count": 123,
   "metadata": {},
   "outputs": [
    {
     "name": "stdout",
     "output_type": "stream",
     "text": [
      "Columns with missing values: Index(['SUNSDsurface_0'], dtype='object')\n"
     ]
    }
   ],
   "source": [
    "missing_columns = generation.columns[generation.isnull().any()]\n",
    "print(\"Columns with missing values:\", missing_columns)"
   ]
  },
  {
   "cell_type": "code",
   "execution_count": 124,
   "metadata": {},
   "outputs": [],
   "source": [
    "generation = generation.drop(columns=(missing_columns))"
   ]
  },
  {
   "cell_type": "code",
   "execution_count": 125,
   "metadata": {},
   "outputs": [
    {
     "name": "stdout",
     "output_type": "stream",
     "text": [
      "X_Train shape: (80469, 29), Test shape: (6903, 29)\n",
      "y_Train shape: (80469,), Test shape: (6903,)\n"
     ]
    }
   ],
   "source": [
    "# Define the cutoff date for the train-test split\n",
    "cutoff_date = '2024-07-31'\n",
    "# Training data is strictly before the test period and avoids Data Leakage.\n",
    "# No shuffling is done, preserving the Chronological Order.\n",
    "\n",
    "\n",
    "# Split into train (before May 1st) and test (from May 1st onwards until June 1st)\n",
    "train_df = generation[generation['ds'] <= cutoff_date]\n",
    "test_df = generation[generation['ds'] > cutoff_date]\n",
    "\n",
    "# Drop unnecessary columns for training\n",
    "X_train = train_df.drop(columns=['ds', 'y'])\n",
    "X_test = test_df.drop(columns=['ds', 'y'])\n",
    "# fechaHora is the timestamp and should not be a predictor\n",
    "\n",
    "\n",
    "# Ensuring y_train contain only the target variable\n",
    "y_train = train_df['y']\n",
    "y_test = test_df['y']\n",
    "\n",
    "# Print dataset shapes\n",
    "print(f\"X_Train shape: {X_train.shape}, Test shape: {X_test.shape}\")\n",
    "print(f\"y_Train shape: {y_train.shape}, Test shape: {y_test.shape}\")"
   ]
  },
  {
   "cell_type": "markdown",
   "metadata": {},
   "source": [
    "## LSTM Training"
   ]
  },
  {
   "cell_type": "code",
   "execution_count": 126,
   "metadata": {},
   "outputs": [],
   "source": [
    "import torch\n",
    "import torch.nn as nn\n",
    "import torch.optim as optim"
   ]
  },
  {
   "cell_type": "code",
   "execution_count": 127,
   "metadata": {},
   "outputs": [],
   "source": [
    "class genLSTM(nn.Module):\n",
    "    def __init__(self, input_size, hidden_layer_size, output_size):\n",
    "        super(genLSTM, self).__init__()\n",
    "        self.hidden_layer_size = hidden_layer_size\n",
    "\n",
    "        # Define LSTM layer\n",
    "        self.lstm = nn.LSTM(input_size, hidden_layer_size, batch_first=True)\n",
    "\n",
    "        # Define a fully connected layer to map hidden state to output\n",
    "        self.fc = nn.Linear(hidden_layer_size, output_size)\n",
    "\n",
    "    def forward(self, x):\n",
    "        # Initialize hidden and cell states with zeros\n",
    "        h0 = torch.zeros(1, x.size(0), self.hidden_layer_size).to(x.device)  # (num_layers, batch_size, hidden_size)\n",
    "        c0 = torch.zeros(1, x.size(0), self.hidden_layer_size).to(x.device)\n",
    "\n",
    "        # Pass through LSTM layer\n",
    "        out, _ = self.lstm(x, (h0, c0))\n",
    "\n",
    "        # Take the output of the last time step\n",
    "        out = out[:, -1, :]\n",
    "\n",
    "        # Pass through the fully connected layer\n",
    "        out = self.fc(out)\n",
    "        return out"
   ]
  },
  {
   "cell_type": "code",
   "execution_count": 128,
   "metadata": {},
   "outputs": [
    {
     "name": "stdout",
     "output_type": "stream",
     "text": [
      "X_train shape: torch.Size([80469, 1, 29]), y_train shape: torch.Size([80469, 1])\n",
      "X_test shape: torch.Size([6903, 1, 29]), y_test shape: torch.Size([6903, 1])\n"
     ]
    }
   ],
   "source": [
    "# Convert X_train and X_test to PyTorch tensors\n",
    "X_train_tensor = torch.tensor(X_train.values, dtype=torch.float32)\n",
    "X_test_tensor = torch.tensor(X_test.values, dtype=torch.float32)\n",
    "\n",
    "# Convert y_train and y_test to PyTorch tensors\n",
    "y_train_tensor = torch.tensor(y_train.values, dtype=torch.float32).view(-1, 1)  # Reshape to (samples, 1)\n",
    "y_test_tensor = torch.tensor(y_test.values, dtype=torch.float32).view(-1, 1)    # Reshape to (samples, 1)\n",
    "\n",
    "# Reshape X_train and X_test to 3D format (samples, timesteps, features)\n",
    "# Assuming each sample has 1 timestep\n",
    "X_train_tensor = X_train_tensor.view(len(X_train_tensor), 1, X_train_tensor.shape[1])\n",
    "X_test_tensor = X_test_tensor.view(len(X_test_tensor), 1, X_test_tensor.shape[1])\n",
    "\n",
    "# Print shapes to verify\n",
    "print(f\"X_train shape: {X_train_tensor.shape}, y_train shape: {y_train_tensor.shape}\")\n",
    "print(f\"X_test shape: {X_test_tensor.shape}, y_test shape: {y_test_tensor.shape}\")"
   ]
  },
  {
   "cell_type": "code",
   "execution_count": 129,
   "metadata": {},
   "outputs": [],
   "source": [
    "hidden_layer_size = 50  # Arbitrary\n",
    "output_size = y_train.shape[0]  # Regression problem\n",
    "input_size = X_train.shape[1]  # Number of features"
   ]
  },
  {
   "cell_type": "code",
   "execution_count": null,
   "metadata": {},
   "outputs": [],
   "source": [
    "# Define hyperparameters\n",
    "num_epochs = 50\n",
    "learning_rate = 0.001\n",
    "\n",
    "# Initialize the model, loss function, and optimizer\n",
    "model = genLSTM(input_size=input_size, hidden_layer_size=hidden_layer_size, output_size=output_size)\n",
    "criterion = nn.MSELoss()  # Mean Squared Error for regression\n",
    "optimizer = optim.Adam(model.parameters(), lr=learning_rate)\n",
    "\n",
    "# Move model to the same device as the data\n",
    "device = torch.device(\"cuda\" if torch.cuda.is_available() else \"cpu\")\n",
    "model.to(device)\n",
    "X_train_tensor, y_train_tensor = X_train_tensor.to(device), y_train_tensor.to(device)\n",
    "\n",
    "# Training loop\n",
    "for epoch in range(num_epochs):\n",
    "    model.train()  # Set the model to training mode\n",
    "\n",
    "    # Forward pass\n",
    "    outputs = model(X_train_tensor)\n",
    "    loss = criterion(outputs, y_train_tensor)\n",
    "\n",
    "    # Backward pass and optimization\n",
    "    optimizer.zero_grad()\n",
    "    loss.backward()\n",
    "    optimizer.step()\n",
    "\n",
    "    # Print loss for every epoch\n",
    "    if (epoch + 1) % 10 == 0 or epoch == 0:\n",
    "        print(f\"Epoch [{epoch + 1}/{num_epochs}], Loss: {loss.item():.4f}\")"
   ]
  },
  {
   "cell_type": "code",
   "execution_count": null,
   "metadata": {},
   "outputs": [],
   "source": []
  },
  {
   "cell_type": "code",
   "execution_count": null,
   "metadata": {},
   "outputs": [
    {
     "name": "stdout",
     "output_type": "stream",
     "text": [
      "Predictions:  tensor([-20.7157, -20.6374, -20.5833, -20.7159, -20.3886, -20.6064, -20.4155,\n",
      "        -20.4781, -20.6423, -20.5457, -20.4769, -20.6088, -20.5858, -20.6932,\n",
      "        -20.4856, -20.5243, -20.6283, -20.6242, -20.2464, -20.4830, -20.4751,\n",
      "        -20.4662, -20.1795, -20.6473, -20.5671, -20.6596, -20.7003, -20.4848,\n",
      "        -20.5978, -20.3095, -20.3455, -20.7328, -20.5046, -20.2471, -20.6781,\n",
      "        -20.6453, -20.4717, -20.5945, -20.4361, -20.3084, -20.3825, -20.4926,\n",
      "        -20.4109, -20.5637, -20.3068, -20.5932, -20.7347, -20.6197, -20.0563,\n",
      "        -20.3851, -20.5120, -20.4218, -20.6502, -20.6302, -20.4825, -20.5123,\n",
      "        -20.5138, -20.3274, -20.5579, -20.5133, -20.2661, -20.3846, -20.5787,\n",
      "        -20.7675, -20.4241, -20.3718, -20.5411, -20.4608, -20.3773, -20.5335,\n",
      "        -20.6139, -20.6992, -20.6435, -20.5164, -20.4086, -20.4956, -20.6696,\n",
      "        -20.5105, -20.2681, -20.9272, -20.4827, -20.2780, -20.4098, -20.6630,\n",
      "        -20.5427, -20.5371, -20.4178, -20.6155, -20.5711, -20.5506, -20.5975,\n",
      "        -20.4297, -20.4732, -20.3604, -20.3141, -20.5877, -20.4013, -20.4993,\n",
      "        -20.7571, -20.2950, -20.1852, -20.8192, -20.5469, -20.4198, -20.2821,\n",
      "        -20.6174, -20.3538, -20.2089, -20.6297, -20.5095, -20.4909, -20.5906,\n",
      "        -20.3682, -20.4685, -20.5865, -20.4246, -20.6040, -20.4450, -20.5098,\n",
      "        -20.5777, -20.4716, -20.4587, -20.5620, -20.5378, -20.4431, -20.5671,\n",
      "        -20.6176, -20.6309, -20.4867, -20.5532, -20.5010, -20.4424, -20.5401,\n",
      "        -20.5580, -20.6129, -20.6244, -20.6507, -20.4451, -20.5003, -20.6372,\n",
      "        -20.4590, -20.5278, -20.3543, -20.5702, -20.5332, -20.3593, -20.7241,\n",
      "        -20.5239, -20.6185, -20.4540, -20.4732, -20.3226, -20.5297, -20.3829,\n",
      "        -20.7259, -20.4889, -20.2838, -20.2156, -20.3871, -20.4199, -20.4400,\n",
      "        -20.3375, -20.4170, -20.6845, -20.2347, -20.4550, -20.6154, -20.4237,\n",
      "        -20.3009, -20.3729, -20.4057, -20.4305, -20.4690, -20.4604, -20.2467,\n",
      "        -20.4332, -20.4279, -20.1050, -20.3895, -20.4630, -20.4110, -20.3807,\n",
      "        -20.4018, -20.7394, -20.2634, -20.3826, -20.8460, -20.5426, -20.2849,\n",
      "        -20.5606, -20.7900, -20.3813, -20.5112, -20.4742, -20.7906, -20.6068,\n",
      "        -20.6599, -20.3878, -20.3803, -20.5296, -20.4961, -20.5718, -20.4088,\n",
      "        -20.7280, -20.6276, -20.5205, -20.6091, -20.6195, -20.4355, -20.6190,\n",
      "        -20.4777, -20.5953, -20.4132, -20.4097, -20.4473, -20.3425, -20.3796,\n",
      "        -20.2164, -20.5491, -20.3589, -20.4555, -20.4111, -20.2989, -20.4812,\n",
      "        -20.6644, -20.4956, -20.4886, -20.4951, -20.5808, -20.3592, -20.6094,\n",
      "        -20.3873, -20.5635, -20.5553, -20.5702, -20.5220, -20.5159, -20.3441,\n",
      "        -20.5172, -20.3430, -20.5864, -20.2916, -20.3852, -20.2982, -20.4821,\n",
      "        -20.3687, -20.5301, -20.4012, -20.5675, -20.5979, -20.2377, -20.4312,\n",
      "        -20.5511, -20.6611, -20.6095, -20.6665, -20.5289, -20.4343, -20.5504,\n",
      "        -20.5307, -20.7589, -20.7713, -20.6423, -20.4235, -20.2254, -20.4513,\n",
      "        -20.4455, -20.6656, -20.3534, -20.8779, -20.4462, -20.3065, -20.5807,\n",
      "        -20.5561, -20.5774, -20.4997, -20.5887, -20.4218, -20.4625, -20.5147,\n",
      "        -20.6904, -20.5311, -20.4146, -20.6020, -20.3140, -20.2853, -20.4031,\n",
      "        -20.5583, -20.5483, -20.7380, -20.5232, -20.6771, -20.4170, -20.5480,\n",
      "        -20.2402, -20.6852, -20.3116, -20.5457, -20.1843, -20.3258, -20.5191,\n",
      "        -20.5711, -20.2987, -20.6909, -20.5692, -20.3577, -20.4206, -20.4246,\n",
      "        -20.6175, -20.4688, -20.1826, -20.4074, -20.6087, -20.5092, -20.5824,\n",
      "        -20.4774, -20.5204, -20.4644, -20.4715, -20.5086, -20.5298, -20.4111,\n",
      "        -20.3366, -20.6930, -20.3672, -20.5236, -20.3940, -20.8246, -20.6343,\n",
      "        -20.2712, -20.4845, -20.3845, -20.5047, -20.3021, -20.5700, -20.5103,\n",
      "        -20.4414, -20.5010, -20.6715, -20.5177, -20.6058, -20.6116, -20.4649,\n",
      "        -20.5277, -20.5604, -20.5533, -20.5503, -20.6767, -20.5939, -20.3890,\n",
      "        -20.4724, -20.6427, -20.4457, -20.3328, -20.4746, -20.4085, -20.3635,\n",
      "        -20.6006, -20.5480, -20.3536, -20.7275, -20.4522, -20.4832, -20.2256,\n",
      "        -20.5783, -20.5818, -20.6185, -20.1627, -20.6010, -20.7521, -20.1455,\n",
      "        -20.5115, -20.5988, -20.4791, -20.3918, -20.7515, -20.3051, -20.2866,\n",
      "        -20.4438, -20.4432, -20.3843, -20.5589, -20.5922, -20.4928, -20.5477,\n",
      "        -20.6173, -20.2958, -20.3605, -20.3570, -20.4046, -20.7000, -20.3449,\n",
      "        -20.4224, -20.3723, -20.6552, -20.5266, -20.4835, -20.2778, -20.4116,\n",
      "        -20.3570, -20.3111, -20.5841, -20.4696, -20.5345, -20.5453, -20.5483,\n",
      "        -20.2185, -20.5373, -20.4232, -20.2598, -20.4801, -20.3935, -20.5737,\n",
      "        -20.6143, -20.4578, -20.6139, -20.6075, -20.4532, -20.4310, -20.6226,\n",
      "        -20.4981, -20.4887, -20.4994, -20.7724, -20.2855, -20.3100, -20.4023,\n",
      "        -20.4833, -20.5909, -20.5696, -20.2677, -20.4672, -20.5120, -20.5280,\n",
      "        -20.3915, -20.6116, -20.4493, -20.5139, -20.2957, -20.5333, -20.8718,\n",
      "        -20.4628, -20.4013, -20.7896, -20.7822, -20.3826, -20.5134, -20.3135,\n",
      "        -20.3574, -20.2758, -20.7005, -20.2751, -20.4654, -20.3985, -20.3984,\n",
      "        -20.5652, -20.5836, -20.4866, -20.3193, -20.5394, -20.3416, -20.3518,\n",
      "        -20.5396, -20.3838, -20.4498, -20.5855, -20.4061, -20.4746, -20.2900,\n",
      "        -20.2551, -20.6356, -20.5613, -20.6936, -20.5149, -20.5802, -20.3828,\n",
      "        -20.5507, -20.2205, -20.3094, -20.6736, -20.2385, -20.3860, -20.5782,\n",
      "        -20.8211, -20.3558, -20.3657, -20.3940, -20.7237, -20.6155, -20.3313,\n",
      "        -20.4853, -20.3901, -20.3284, -20.1136, -20.5171, -20.4073, -20.6275,\n",
      "        -20.5577, -20.4345, -20.5103, -20.4729, -20.6109, -20.5977, -20.4235,\n",
      "        -20.3802, -20.5339, -20.5473, -20.7044, -20.4985, -20.2731, -20.4454,\n",
      "        -20.4355, -20.5484, -20.3685, -20.2014, -20.6757, -20.3501, -20.4874,\n",
      "        -20.3646, -20.4509, -20.4461, -20.6463, -20.3774, -20.6589, -20.4489,\n",
      "        -20.2758, -20.6383, -20.3276, -20.4878, -20.5847, -20.5393, -20.2315,\n",
      "        -20.5435, -20.3018, -20.3633, -20.4857, -20.3461, -20.5793, -20.4691,\n",
      "        -20.5118, -20.3870, -20.5979, -20.4257, -20.5287, -20.5382, -20.2654,\n",
      "        -20.4428, -20.5070, -20.4485, -20.2839, -20.3703, -20.5608, -20.6180,\n",
      "        -20.3935, -20.6612, -20.4088, -20.1576, -20.6241, -20.4094, -20.8106,\n",
      "        -20.7154, -20.6954, -20.5810, -20.7612, -20.6306, -20.3722, -20.6372,\n",
      "        -20.5258, -20.3363, -20.3313, -20.4304, -20.6324, -20.6356, -20.5443,\n",
      "        -20.4251, -20.5753, -20.4167, -20.4055, -20.3412, -20.4165, -20.7485,\n",
      "        -20.4377, -20.6142, -20.2240, -20.2288, -20.3883, -20.5102, -20.4511,\n",
      "        -20.4849, -20.3622, -20.6225, -20.4829, -20.3744, -20.7183, -20.5587,\n",
      "        -20.4936, -20.4363, -20.4314, -20.5115, -20.1986, -20.7484, -20.5841,\n",
      "        -20.3580, -20.5100, -20.5267, -20.5475, -20.5821, -20.5300, -20.5656,\n",
      "        -20.5965, -20.7388, -20.5736, -20.5394, -20.2548, -20.5659, -20.7361,\n",
      "        -20.3949, -20.3571, -20.4082, -20.4586, -20.6835, -20.5299, -20.1512,\n",
      "        -20.4860, -20.4571, -20.5849, -20.6682, -20.3527, -20.4362, -20.5290,\n",
      "        -20.6661, -20.6585, -20.4671, -20.5984, -20.5192, -20.5258, -20.5398,\n",
      "        -20.8256, -20.7639, -20.2060, -20.4515, -20.4398, -20.4319, -20.6090,\n",
      "        -20.6679, -20.5488, -20.3119, -20.6251, -20.5765, -20.6176, -20.6795,\n",
      "        -20.3511, -20.3851, -20.4209, -20.1885, -20.4123, -20.4572, -20.2094,\n",
      "        -20.4644, -20.4580, -20.5933, -20.5127, -20.3565, -20.4666, -20.3241,\n",
      "        -20.6451, -20.4690, -20.6026, -20.5350, -20.6393, -20.3602, -20.4937,\n",
      "        -20.3558, -20.5405, -20.5371, -20.3582, -20.3872, -20.4067, -20.5145,\n",
      "        -20.5089, -20.6360, -20.6762, -20.5284, -20.4183, -20.2963, -20.1908,\n",
      "        -20.4574, -20.6104, -20.5115, -20.6704, -20.5782, -20.4449, -20.4174,\n",
      "        -20.5920, -20.2303, -20.6091, -20.8013, -20.5535, -20.4285, -20.4249,\n",
      "        -20.4272, -20.6502, -20.3920, -20.3962, -20.4369, -20.3517, -20.2643,\n",
      "        -20.4511, -20.4383, -20.2913, -20.5964, -20.6834, -20.6786, -20.7049,\n",
      "        -20.7697, -20.5845, -20.6633, -20.4583, -20.3956, -20.3805, -20.1512,\n",
      "        -20.6812, -20.8051, -20.6339, -20.5661, -20.4392, -20.5309, -20.4698,\n",
      "        -20.4717, -20.2496, -20.6786, -20.5856, -20.6326, -20.4024, -20.4796,\n",
      "        -20.5020, -20.2454, -20.2824, -20.4079, -20.2111, -20.2850, -20.6305,\n",
      "        -20.6230, -20.5550, -20.3043, -20.2329, -20.4333, -20.4729, -20.3171,\n",
      "        -20.6503, -20.6701, -20.7510, -20.8080, -20.6351, -20.1819, -20.2599,\n",
      "        -20.6698, -20.3985, -20.4290, -20.6524, -20.2984, -20.7926, -20.7063,\n",
      "        -20.8652, -20.4972, -20.3765, -20.3846])\n"
     ]
    }
   ],
   "source": [
    "with torch.no_grad():  # No need to compute gradients during testing\n",
    "    # Assuming X_test is preprocessed the same way as X_train\n",
    "    predictions = model(X_test)\n",
    "    print(\"Predictions: \", predictions)"
   ]
  },
  {
   "cell_type": "code",
   "execution_count": 140,
   "metadata": {},
   "outputs": [
    {
     "data": {
      "text/plain": [
       "767"
      ]
     },
     "execution_count": 140,
     "metadata": {},
     "output_type": "execute_result"
    }
   ],
   "source": [
    "len(predictions)"
   ]
  },
  {
   "cell_type": "code",
   "execution_count": 26,
   "metadata": {},
   "outputs": [],
   "source": [
    "# Generate timestamps for September\n",
    "future_dates = pd.date_range(start='2024-09-01 00:00:00', end='2024-09-30 23:00:00', freq='h')\n",
    "\n",
    "# Create an empty DataFrame for predictions\n",
    "future_df = pd.DataFrame({'ds': future_dates})\n",
    "\n",
    "# Convert Timestamp Features\n",
    "future_df['hour'] = future_df['ds'].dt.hour\n",
    "future_df['day'] = future_df['ds'].dt.day\n",
    "future_df['month'] = future_df['ds'].dt.month\n",
    "future_df['weekday'] = future_df['ds'].dt.weekday\n",
    "future_df['is_weekend'] = (future_df['weekday'] >= 5).astype(int)\n",
    "\n",
    "# Apply Cyclical Encoding\n",
    "future_df['hour_sin'] = np.sin(2 * np.pi * future_df['hour'] / 24)\n",
    "future_df['hour_cos'] = np.cos(2 * np.pi * future_df['hour'] / 24)\n",
    "\n",
    "future_df['day_sin'] = np.sin(2 * np.pi * future_df['day'] / 31)\n",
    "future_df['day_cos'] = np.cos(2 * np.pi * future_df['day'] / 31)\n",
    "\n",
    "future_df['month_sin'] = np.sin(2 * np.pi * future_df['month'] / 12)\n",
    "future_df['month_cos'] = np.cos(2 * np.pi * future_df['month'] / 12)\n",
    "\n",
    "last_known_data = df[df['ds'] >= '2024-08-31'].copy()\n"
   ]
  },
  {
   "cell_type": "code",
   "execution_count": 29,
   "metadata": {},
   "outputs": [
    {
     "name": "stderr",
     "output_type": "stream",
     "text": [
      "C:\\Users\\juanf\\AppData\\Local\\Temp\\ipykernel_45100\\1195972872.py:10: SettingWithCopyWarning: \n",
      "A value is trying to be set on a copy of a slice from a DataFrame.\n",
      "Try using .loc[row_indexer,col_indexer] = value instead\n",
      "\n",
      "See the caveats in the documentation: https://pandas.pydata.org/pandas-docs/stable/user_guide/indexing.html#returning-a-view-versus-a-copy\n",
      "  submission_df['Energia'] = submission_df['Energia'].apply(lambda x: 0 if x < 0.5 else x)\n"
     ]
    },
    {
     "data": {
      "text/html": [
       "<div>\n",
       "<style scoped>\n",
       "    .dataframe tbody tr th:only-of-type {\n",
       "        vertical-align: middle;\n",
       "    }\n",
       "\n",
       "    .dataframe tbody tr th {\n",
       "        vertical-align: top;\n",
       "    }\n",
       "\n",
       "    .dataframe thead th {\n",
       "        text-align: right;\n",
       "    }\n",
       "</style>\n",
       "<table border=\"1\" class=\"dataframe\">\n",
       "  <thead>\n",
       "    <tr style=\"text-align: right;\">\n",
       "      <th></th>\n",
       "      <th>ds</th>\n",
       "      <th>Energia</th>\n",
       "    </tr>\n",
       "  </thead>\n",
       "  <tbody>\n",
       "    <tr>\n",
       "      <th>0</th>\n",
       "      <td>2024-09-01 00:00:00</td>\n",
       "      <td>0.000000</td>\n",
       "    </tr>\n",
       "    <tr>\n",
       "      <th>1</th>\n",
       "      <td>2024-09-01 01:00:00</td>\n",
       "      <td>0.000000</td>\n",
       "    </tr>\n",
       "    <tr>\n",
       "      <th>2</th>\n",
       "      <td>2024-09-01 02:00:00</td>\n",
       "      <td>0.000000</td>\n",
       "    </tr>\n",
       "    <tr>\n",
       "      <th>3</th>\n",
       "      <td>2024-09-01 03:00:00</td>\n",
       "      <td>0.000000</td>\n",
       "    </tr>\n",
       "    <tr>\n",
       "      <th>4</th>\n",
       "      <td>2024-09-01 04:00:00</td>\n",
       "      <td>0.000000</td>\n",
       "    </tr>\n",
       "    <tr>\n",
       "      <th>5</th>\n",
       "      <td>2024-09-01 05:00:00</td>\n",
       "      <td>0.000000</td>\n",
       "    </tr>\n",
       "    <tr>\n",
       "      <th>6</th>\n",
       "      <td>2024-09-01 06:00:00</td>\n",
       "      <td>0.000000</td>\n",
       "    </tr>\n",
       "    <tr>\n",
       "      <th>7</th>\n",
       "      <td>2024-09-01 07:00:00</td>\n",
       "      <td>0.000000</td>\n",
       "    </tr>\n",
       "    <tr>\n",
       "      <th>8</th>\n",
       "      <td>2024-09-01 08:00:00</td>\n",
       "      <td>1.152616</td>\n",
       "    </tr>\n",
       "    <tr>\n",
       "      <th>9</th>\n",
       "      <td>2024-09-01 09:00:00</td>\n",
       "      <td>3.624847</td>\n",
       "    </tr>\n",
       "    <tr>\n",
       "      <th>10</th>\n",
       "      <td>2024-09-01 10:00:00</td>\n",
       "      <td>4.547475</td>\n",
       "    </tr>\n",
       "    <tr>\n",
       "      <th>11</th>\n",
       "      <td>2024-09-01 11:00:00</td>\n",
       "      <td>5.048163</td>\n",
       "    </tr>\n",
       "    <tr>\n",
       "      <th>12</th>\n",
       "      <td>2024-09-01 12:00:00</td>\n",
       "      <td>6.305180</td>\n",
       "    </tr>\n",
       "    <tr>\n",
       "      <th>13</th>\n",
       "      <td>2024-09-01 13:00:00</td>\n",
       "      <td>5.302276</td>\n",
       "    </tr>\n",
       "    <tr>\n",
       "      <th>14</th>\n",
       "      <td>2024-09-01 14:00:00</td>\n",
       "      <td>6.638633</td>\n",
       "    </tr>\n",
       "    <tr>\n",
       "      <th>15</th>\n",
       "      <td>2024-09-01 15:00:00</td>\n",
       "      <td>5.660593</td>\n",
       "    </tr>\n",
       "    <tr>\n",
       "      <th>16</th>\n",
       "      <td>2024-09-01 16:00:00</td>\n",
       "      <td>4.498223</td>\n",
       "    </tr>\n",
       "    <tr>\n",
       "      <th>17</th>\n",
       "      <td>2024-09-01 17:00:00</td>\n",
       "      <td>0.000000</td>\n",
       "    </tr>\n",
       "    <tr>\n",
       "      <th>18</th>\n",
       "      <td>2024-09-01 18:00:00</td>\n",
       "      <td>0.000000</td>\n",
       "    </tr>\n",
       "    <tr>\n",
       "      <th>19</th>\n",
       "      <td>2024-09-01 19:00:00</td>\n",
       "      <td>0.000000</td>\n",
       "    </tr>\n",
       "  </tbody>\n",
       "</table>\n",
       "</div>"
      ],
      "text/plain": [
       "                    ds   Energia\n",
       "0  2024-09-01 00:00:00  0.000000\n",
       "1  2024-09-01 01:00:00  0.000000\n",
       "2  2024-09-01 02:00:00  0.000000\n",
       "3  2024-09-01 03:00:00  0.000000\n",
       "4  2024-09-01 04:00:00  0.000000\n",
       "5  2024-09-01 05:00:00  0.000000\n",
       "6  2024-09-01 06:00:00  0.000000\n",
       "7  2024-09-01 07:00:00  0.000000\n",
       "8  2024-09-01 08:00:00  1.152616\n",
       "9  2024-09-01 09:00:00  3.624847\n",
       "10 2024-09-01 10:00:00  4.547475\n",
       "11 2024-09-01 11:00:00  5.048163\n",
       "12 2024-09-01 12:00:00  6.305180\n",
       "13 2024-09-01 13:00:00  5.302276\n",
       "14 2024-09-01 14:00:00  6.638633\n",
       "15 2024-09-01 15:00:00  5.660593\n",
       "16 2024-09-01 16:00:00  4.498223\n",
       "17 2024-09-01 17:00:00  0.000000\n",
       "18 2024-09-01 18:00:00  0.000000\n",
       "19 2024-09-01 19:00:00  0.000000"
      ]
     },
     "execution_count": 29,
     "metadata": {},
     "output_type": "execute_result"
    }
   ],
   "source": [
    "# Keep only the required columns for submission\n",
    "submission_df = future_df[['ds', 'Energia']]\n",
    "\n",
    "# Save as CSV\n",
    "submission_filename = 'Challenge1_GroupX.csv'  # Replace 'GroupX' with your team name if needed\n",
    "\n",
    "#print(f\"✅ Submission file saved as '{submission_filename}'\")\n",
    "\n",
    "# Clip the values of 'Energia' column lower than 0.5 to 0\n",
    "submission_df['Energia'] = submission_df['Energia'].apply(lambda x: 0 if x < 0.5 else x)\n",
    "submission_df.to_csv(submission_filename, index=False)\n",
    "submission_df.head(20)\n"
   ]
  },
  {
   "cell_type": "code",
   "execution_count": 30,
   "metadata": {},
   "outputs": [
    {
     "data": {
      "image/png": "[encoded data removed]",
      "text/plain": [
       "<Figure size 1000x600 with 1 Axes>"
      ]
     },
     "metadata": {},
     "output_type": "display_data"
    }
   ],
   "source": [
    "import matplotlib.pyplot as plt\n",
    "\n",
    "# Plot the values of Energia against time\n",
    "plt.figure(figsize=(10, 6))\n",
    "plt.plot(submission_df['ds'], submission_df['Energia'], marker='o', linestyle='-')\n",
    "plt.xlabel('Time')\n",
    "plt.ylabel('Energia')\n",
    "plt.title('Energia vs Time')\n",
    "plt.xticks(rotation=45)\n",
    "plt.grid(True)\n",
    "plt.tight_layout()\n",
    "plt.show()\n"
   ]
  }
 ],
 "metadata": {
  "kernelspec": {
   "display_name": "Python 3",
   "language": "python",
   "name": "python3"
  },
  "language_info": {
   "codemirror_mode": {
    "name": "ipython",
    "version": 3
   },
   "file_extension": ".py",
   "mimetype": "text/x-python",
   "name": "python",
   "nbconvert_exporter": "python",
   "pygments_lexer": "ipython3",
   "version": "3.13.2"
  }
 },
 "nbformat": 4,
 "nbformat_minor": 2
}
